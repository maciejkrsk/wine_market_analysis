{
 "cells": [
  {
   "cell_type": "code",
   "execution_count": 2,
   "metadata": {
    "vscode": {
     "languageId": "sql"
    }
   },
   "outputs": [],
   "source": [
    "import sqlalchemy"
   ]
  },
  {
   "cell_type": "code",
   "execution_count": 3,
   "metadata": {
    "vscode": {
     "languageId": "sql"
    }
   },
   "outputs": [
    {
     "data": {
      "text/plain": [
       "Engine(sqlite:///vivino_v2.db)"
      ]
     },
     "execution_count": 3,
     "metadata": {},
     "output_type": "execute_result"
    }
   ],
   "source": [
    "sqlalchemy.create_engine('sqlite:///vivino_v2.db')"
   ]
  },
  {
   "cell_type": "code",
   "execution_count": 4,
   "metadata": {},
   "outputs": [],
   "source": [
    "%load_ext sql"
   ]
  },
  {
   "cell_type": "code",
   "execution_count": 5,
   "metadata": {},
   "outputs": [],
   "source": [
    "%sql sqlite:///vivino_v2.db"
   ]
  },
  {
   "attachments": {},
   "cell_type": "markdown",
   "metadata": {},
   "source": [
    "We want to highlight 10 wines to increase our sales, which ones should we choose and why?"
   ]
  },
  {
   "cell_type": "code",
   "execution_count": 6,
   "metadata": {
    "vscode": {
     "languageId": "sql"
    }
   },
   "outputs": [
    {
     "data": {
      "text/html": [
       "<span style=\"None\">Running query in &#x27;sqlite:///vivino_v2.db&#x27;</span>"
      ],
      "text/plain": [
       "Running query in 'sqlite:///vivino_v2.db'"
      ]
     },
     "metadata": {},
     "output_type": "display_data"
    },
    {
     "data": {
      "text/html": [
       "<table>\n",
       "    <thead>\n",
       "        <tr>\n",
       "            <th>name</th>\n",
       "            <th>rating</th>\n",
       "        </tr>\n",
       "    </thead>\n",
       "    <tbody>\n",
       "        <tr>\n",
       "            <td>Amarone della Valpolicella Classico Riserva</td>\n",
       "            <td>4.8</td>\n",
       "        </tr>\n",
       "        <tr>\n",
       "            <td>Cabernet Sauvignon</td>\n",
       "            <td>4.8</td>\n",
       "        </tr>\n",
       "        <tr>\n",
       "            <td>Mágico</td>\n",
       "            <td>4.8</td>\n",
       "        </tr>\n",
       "        <tr>\n",
       "            <td>Fratini Bolgheri Superiore</td>\n",
       "            <td>4.8</td>\n",
       "        </tr>\n",
       "        <tr>\n",
       "            <td>Cristal Rosé Vinothèque</td>\n",
       "            <td>4.8</td>\n",
       "        </tr>\n",
       "        <tr>\n",
       "            <td>Batard-Montrachet Grand Cru</td>\n",
       "            <td>4.8</td>\n",
       "        </tr>\n",
       "        <tr>\n",
       "            <td>IX Estate Red</td>\n",
       "            <td>4.7</td>\n",
       "        </tr>\n",
       "        <tr>\n",
       "            <td>Special Selection Cabernet Sauvignon</td>\n",
       "            <td>4.7</td>\n",
       "        </tr>\n",
       "        <tr>\n",
       "            <td>Unico Reserva Especial Edición</td>\n",
       "            <td>4.7</td>\n",
       "        </tr>\n",
       "        <tr>\n",
       "            <td>Unico</td>\n",
       "            <td>4.7</td>\n",
       "        </tr>\n",
       "    </tbody>\n",
       "</table>"
      ],
      "text/plain": [
       "+---------------------------------------------+--------+\n",
       "|                     name                    | rating |\n",
       "+---------------------------------------------+--------+\n",
       "| Amarone della Valpolicella Classico Riserva |  4.8   |\n",
       "|              Cabernet Sauvignon             |  4.8   |\n",
       "|                    Mágico                   |  4.8   |\n",
       "|          Fratini Bolgheri Superiore         |  4.8   |\n",
       "|           Cristal Rosé Vinothèque           |  4.8   |\n",
       "|         Batard-Montrachet Grand Cru         |  4.8   |\n",
       "|                IX Estate Red                |  4.7   |\n",
       "|     Special Selection Cabernet Sauvignon    |  4.7   |\n",
       "|        Unico Reserva Especial Edición       |  4.7   |\n",
       "|                    Unico                    |  4.7   |\n",
       "+---------------------------------------------+--------+"
      ]
     },
     "execution_count": 6,
     "metadata": {},
     "output_type": "execute_result"
    }
   ],
   "source": [
    "%%sql -- The top 10 with the best ratings\n",
    "SELECT\n",
    "    name,\n",
    "    ratings_average AS rating\n",
    "FROM\n",
    "    wines\n",
    "ORDER BY\n",
    "    rating DESC\n",
    "LIMIT\n",
    "    10"
   ]
  },
  {
   "attachments": {},
   "cell_type": "markdown",
   "metadata": {},
   "source": [
    "We have a marketing budget for this year, which country should we prioritise and why?"
   ]
  },
  {
   "cell_type": "code",
   "execution_count": 7,
   "metadata": {
    "vscode": {
     "languageId": "sql"
    }
   },
   "outputs": [
    {
     "data": {
      "text/html": [
       "<span style=\"None\">Running query in &#x27;sqlite:///vivino_v2.db&#x27;</span>"
      ],
      "text/plain": [
       "Running query in 'sqlite:///vivino_v2.db'"
      ]
     },
     "metadata": {},
     "output_type": "display_data"
    },
    {
     "data": {
      "text/html": [
       "<table>\n",
       "    <thead>\n",
       "        <tr>\n",
       "            <th>code</th>\n",
       "            <th>name</th>\n",
       "            <th>regions_count</th>\n",
       "            <th>users_count</th>\n",
       "            <th>wines_count</th>\n",
       "            <th>wineries_count</th>\n",
       "        </tr>\n",
       "    </thead>\n",
       "    <tbody>\n",
       "        <tr>\n",
       "            <td>us</td>\n",
       "            <td>États-Unis</td>\n",
       "            <td>362</td>\n",
       "            <td>12273684</td>\n",
       "            <td>204060</td>\n",
       "            <td>28145</td>\n",
       "        </tr>\n",
       "        <tr>\n",
       "            <td>fr</td>\n",
       "            <td>France</td>\n",
       "            <td>1306</td>\n",
       "            <td>5973301</td>\n",
       "            <td>422503</td>\n",
       "            <td>67553</td>\n",
       "        </tr>\n",
       "        <tr>\n",
       "            <td>it</td>\n",
       "            <td>Italie</td>\n",
       "            <td>563</td>\n",
       "            <td>4270717</td>\n",
       "            <td>274658</td>\n",
       "            <td>42399</td>\n",
       "        </tr>\n",
       "        <tr>\n",
       "            <td>de</td>\n",
       "            <td>Allemagne</td>\n",
       "            <td>236</td>\n",
       "            <td>2549989</td>\n",
       "            <td>164533</td>\n",
       "            <td>13643</td>\n",
       "        </tr>\n",
       "        <tr>\n",
       "            <td>es</td>\n",
       "            <td>Espagne</td>\n",
       "            <td>152</td>\n",
       "            <td>2264396</td>\n",
       "            <td>102662</td>\n",
       "            <td>18026</td>\n",
       "        </tr>\n",
       "    </tbody>\n",
       "</table>"
      ],
      "text/plain": [
       "+------+------------+---------------+-------------+-------------+----------------+\n",
       "| code |    name    | regions_count | users_count | wines_count | wineries_count |\n",
       "+------+------------+---------------+-------------+-------------+----------------+\n",
       "|  us  | États-Unis |      362      |   12273684  |    204060   |     28145      |\n",
       "|  fr  |   France   |      1306     |   5973301   |    422503   |     67553      |\n",
       "|  it  |   Italie   |      563      |   4270717   |    274658   |     42399      |\n",
       "|  de  | Allemagne  |      236      |   2549989   |    164533   |     13643      |\n",
       "|  es  |  Espagne   |      152      |   2264396   |    102662   |     18026      |\n",
       "+------+------------+---------------+-------------+-------------+----------------+"
      ]
     },
     "execution_count": 7,
     "metadata": {},
     "output_type": "execute_result"
    }
   ],
   "source": [
    "%%sql -- The one with the biggest consumer count\n",
    "SELECT\n",
    "    *\n",
    "FROM\n",
    "    countries\n",
    "ORDER BY\n",
    "    users_count DESC,\n",
    "    wineries_count DESC\n",
    "LIMIT\n",
    "    5"
   ]
  },
  {
   "attachments": {},
   "cell_type": "markdown",
   "metadata": {},
   "source": [
    "We would like to give a price to the best winery, which one should we choose and why?"
   ]
  },
  {
   "cell_type": "code",
   "execution_count": 8,
   "metadata": {
    "vscode": {
     "languageId": "sql"
    }
   },
   "outputs": [
    {
     "data": {
      "text/html": [
       "<span style=\"None\">Running query in &#x27;sqlite:///vivino_v2.db&#x27;</span>"
      ],
      "text/plain": [
       "Running query in 'sqlite:///vivino_v2.db'"
      ]
     },
     "metadata": {},
     "output_type": "display_data"
    },
    {
     "data": {
      "text/html": [
       "<table>\n",
       "    <thead>\n",
       "        <tr>\n",
       "            <th>id</th>\n",
       "            <th>name</th>\n",
       "            <th>ratings_average</th>\n",
       "            <th>SUM(wines.ratings_count)</th>\n",
       "        </tr>\n",
       "    </thead>\n",
       "    <tbody>\n",
       "        <tr>\n",
       "            <td>1301</td>\n",
       "            <td>Caymus</td>\n",
       "            <td>4.6</td>\n",
       "            <td>199180</td>\n",
       "        </tr>\n",
       "        <tr>\n",
       "            <td>212823</td>\n",
       "            <td>Dom Pérignon</td>\n",
       "            <td>4.6</td>\n",
       "            <td>167667</td>\n",
       "        </tr>\n",
       "        <tr>\n",
       "            <td>1413</td>\n",
       "            <td>Tenuta San Guido</td>\n",
       "            <td>4.6</td>\n",
       "            <td>107646</td>\n",
       "        </tr>\n",
       "        <tr>\n",
       "            <td>55648</td>\n",
       "            <td>San Marzano</td>\n",
       "            <td>4.5</td>\n",
       "            <td>94289</td>\n",
       "        </tr>\n",
       "        <tr>\n",
       "            <td>60883</td>\n",
       "            <td>Masi</td>\n",
       "            <td>4.3</td>\n",
       "            <td>101065</td>\n",
       "        </tr>\n",
       "        <tr>\n",
       "            <td>1653</td>\n",
       "            <td>Tommasi</td>\n",
       "            <td>4.3</td>\n",
       "            <td>78089</td>\n",
       "        </tr>\n",
       "        <tr>\n",
       "            <td>64252</td>\n",
       "            <td>Château Mouton Rothschild</td>\n",
       "            <td>4.6</td>\n",
       "            <td>86619</td>\n",
       "        </tr>\n",
       "        <tr>\n",
       "            <td>11049</td>\n",
       "            <td>Alión</td>\n",
       "            <td>4.5</td>\n",
       "            <td>69278</td>\n",
       "        </tr>\n",
       "        <tr>\n",
       "            <td>14607</td>\n",
       "            <td>Pago de Carraovejas</td>\n",
       "            <td>4.4</td>\n",
       "            <td>65625</td>\n",
       "        </tr>\n",
       "        <tr>\n",
       "            <td>1740</td>\n",
       "            <td>Pintia</td>\n",
       "            <td>4.4</td>\n",
       "            <td>60705</td>\n",
       "        </tr>\n",
       "    </tbody>\n",
       "</table>\n",
       "<span style=\"font-style:italic;text-align:center;\">658 rows, truncated to displaylimit of 10</span><br><span style=\"font-style:italic;text-align:center;\">If you want to see more, please visit <a href=\"https://jupysql.ploomber.io/en/latest/api/configuration.html#displaylimit\">displaylimit</a> configuration</span>"
      ],
      "text/plain": [
       "+--------+---------------------------+-----------------+--------------------------+\n",
       "|   id   |            name           | ratings_average | SUM(wines.ratings_count) |\n",
       "+--------+---------------------------+-----------------+--------------------------+\n",
       "|  1301  |           Caymus          |       4.6       |          199180          |\n",
       "| 212823 |        Dom Pérignon       |       4.6       |          167667          |\n",
       "|  1413  |      Tenuta San Guido     |       4.6       |          107646          |\n",
       "| 55648  |        San Marzano        |       4.5       |          94289           |\n",
       "| 60883  |            Masi           |       4.3       |          101065          |\n",
       "|  1653  |          Tommasi          |       4.3       |          78089           |\n",
       "| 64252  | Château Mouton Rothschild |       4.6       |          86619           |\n",
       "| 11049  |           Alión           |       4.5       |          69278           |\n",
       "| 14607  |    Pago de Carraovejas    |       4.4       |          65625           |\n",
       "|  1740  |           Pintia          |       4.4       |          60705           |\n",
       "+--------+---------------------------+-----------------+--------------------------+"
      ]
     },
     "execution_count": 8,
     "metadata": {},
     "output_type": "execute_result"
    }
   ],
   "source": [
    "%%sql --Complete\n",
    "SELECT wineries.id, wineries.name, wines.ratings_average, SUM(wines.ratings_count)\n",
    "FROM wineries\n",
    "JOIN wines\n",
    "ON wines.winery_id = wineries.id\n",
    "GROUP BY wineries.name\n",
    "ORDER BY wines.ratings_count DESC"
   ]
  },
  {
   "attachments": {},
   "cell_type": "markdown",
   "metadata": {},
   "source": [
    "We has detected that a big cluster of customers like a specific combination of tastes. We have identified few primary keywords that matches this and we would like you to find all the wines that have those keywords. To ensure accuracy of our selection, ensure that more than 10 users confirmed those keywords. Also, identify the flavor_groups related to those keywords."
   ]
  },
  {
   "cell_type": "code",
   "execution_count": 10,
   "metadata": {
    "vscode": {
     "languageId": "sql"
    }
   },
   "outputs": [
    {
     "data": {
      "text/html": [
       "<span style=\"None\">Running query in &#x27;sqlite:///vivino_v2.db&#x27;</span>"
      ],
      "text/plain": [
       "Running query in 'sqlite:///vivino_v2.db'"
      ]
     },
     "metadata": {},
     "output_type": "display_data"
    },
    {
     "data": {
      "text/html": [
       "<table>\n",
       "    <thead>\n",
       "        <tr>\n",
       "            <th>id</th>\n",
       "            <th>name</th>\n",
       "            <th>is_natural</th>\n",
       "            <th>region_id</th>\n",
       "            <th>winery_id</th>\n",
       "            <th>ratings_average</th>\n",
       "            <th>ratings_count</th>\n",
       "            <th>url</th>\n",
       "            <th>acidity</th>\n",
       "            <th>fizziness</th>\n",
       "            <th>intensity</th>\n",
       "            <th>sweetness</th>\n",
       "            <th>tannin</th>\n",
       "            <th>user_structure_count</th>\n",
       "            <th>keyword_id</th>\n",
       "            <th>wine_id</th>\n",
       "            <th>group_name</th>\n",
       "            <th>keyword_type</th>\n",
       "            <th>count</th>\n",
       "        </tr>\n",
       "    </thead>\n",
       "    <tbody>\n",
       "        <tr>\n",
       "            <td>82698</td>\n",
       "            <td>Brunello di Montalcino Riserva</td>\n",
       "            <td>0</td>\n",
       "            <td>1796</td>\n",
       "            <td>11500</td>\n",
       "            <td>4.6</td>\n",
       "            <td>3375</td>\n",
       "            <td><a href=https://www.seulementproduitsitaliens.be/spec_collezioni.php?CODICEWT=10BSRI90B>https://www.seulementproduitsitaliens.be/spec_collezioni.php?CODICEWT=10BSRI90B</a></td>\n",
       "            <td>3.830859</td>\n",
       "            <td>None</td>\n",
       "            <td>3.1464493</td>\n",
       "            <td>1.650779</td>\n",
       "            <td>3.602499</td>\n",
       "            <td>173</td>\n",
       "            <td>242</td>\n",
       "            <td>82698</td>\n",
       "            <td>earth</td>\n",
       "            <td>primary</td>\n",
       "            <td>73</td>\n",
       "        </tr>\n",
       "        <tr>\n",
       "            <td>82698</td>\n",
       "            <td>Brunello di Montalcino Riserva</td>\n",
       "            <td>0</td>\n",
       "            <td>1796</td>\n",
       "            <td>11500</td>\n",
       "            <td>4.6</td>\n",
       "            <td>3375</td>\n",
       "            <td><a href=https://www.seulementproduitsitaliens.be/spec_collezioni.php?CODICEWT=10BSRI90B>https://www.seulementproduitsitaliens.be/spec_collezioni.php?CODICEWT=10BSRI90B</a></td>\n",
       "            <td>3.830859</td>\n",
       "            <td>None</td>\n",
       "            <td>3.1464493</td>\n",
       "            <td>1.650779</td>\n",
       "            <td>3.602499</td>\n",
       "            <td>173</td>\n",
       "            <td>284</td>\n",
       "            <td>82698</td>\n",
       "            <td>earth</td>\n",
       "            <td>primary</td>\n",
       "            <td>46</td>\n",
       "        </tr>\n",
       "        <tr>\n",
       "            <td>82698</td>\n",
       "            <td>Brunello di Montalcino Riserva</td>\n",
       "            <td>0</td>\n",
       "            <td>1796</td>\n",
       "            <td>11500</td>\n",
       "            <td>4.6</td>\n",
       "            <td>3375</td>\n",
       "            <td><a href=https://www.seulementproduitsitaliens.be/spec_collezioni.php?CODICEWT=10BSRI90B>https://www.seulementproduitsitaliens.be/spec_collezioni.php?CODICEWT=10BSRI90B</a></td>\n",
       "            <td>3.830859</td>\n",
       "            <td>None</td>\n",
       "            <td>3.1464493</td>\n",
       "            <td>1.650779</td>\n",
       "            <td>3.602499</td>\n",
       "            <td>173</td>\n",
       "            <td>156</td>\n",
       "            <td>82698</td>\n",
       "            <td>earth</td>\n",
       "            <td>primary</td>\n",
       "            <td>28</td>\n",
       "        </tr>\n",
       "        <tr>\n",
       "            <td>82698</td>\n",
       "            <td>Brunello di Montalcino Riserva</td>\n",
       "            <td>0</td>\n",
       "            <td>1796</td>\n",
       "            <td>11500</td>\n",
       "            <td>4.6</td>\n",
       "            <td>3375</td>\n",
       "            <td><a href=https://www.seulementproduitsitaliens.be/spec_collezioni.php?CODICEWT=10BSRI90B>https://www.seulementproduitsitaliens.be/spec_collezioni.php?CODICEWT=10BSRI90B</a></td>\n",
       "            <td>3.830859</td>\n",
       "            <td>None</td>\n",
       "            <td>3.1464493</td>\n",
       "            <td>1.650779</td>\n",
       "            <td>3.602499</td>\n",
       "            <td>173</td>\n",
       "            <td>22</td>\n",
       "            <td>82698</td>\n",
       "            <td>earth</td>\n",
       "            <td>primary</td>\n",
       "            <td>23</td>\n",
       "        </tr>\n",
       "        <tr>\n",
       "            <td>82698</td>\n",
       "            <td>Brunello di Montalcino Riserva</td>\n",
       "            <td>0</td>\n",
       "            <td>1796</td>\n",
       "            <td>11500</td>\n",
       "            <td>4.6</td>\n",
       "            <td>3375</td>\n",
       "            <td><a href=https://www.seulementproduitsitaliens.be/spec_collezioni.php?CODICEWT=10BSRI90B>https://www.seulementproduitsitaliens.be/spec_collezioni.php?CODICEWT=10BSRI90B</a></td>\n",
       "            <td>3.830859</td>\n",
       "            <td>None</td>\n",
       "            <td>3.1464493</td>\n",
       "            <td>1.650779</td>\n",
       "            <td>3.602499</td>\n",
       "            <td>173</td>\n",
       "            <td>384</td>\n",
       "            <td>82698</td>\n",
       "            <td>earth</td>\n",
       "            <td>primary</td>\n",
       "            <td>21</td>\n",
       "        </tr>\n",
       "    </tbody>\n",
       "</table>"
      ],
      "text/plain": [
       "+-------+--------------------------------+------------+-----------+-----------+-----------------+---------------+-----------------------------------------------------------------------------------------------------------------------------------------------------------------------------+----------+-----------+-----------+-----------+----------+----------------------+------------+---------+------------+--------------+-------+\n",
       "|   id  |              name              | is_natural | region_id | winery_id | ratings_average | ratings_count |                                                                                     url                                                                                     | acidity  | fizziness | intensity | sweetness |  tannin  | user_structure_count | keyword_id | wine_id | group_name | keyword_type | count |\n",
       "+-------+--------------------------------+------------+-----------+-----------+-----------------+---------------+-----------------------------------------------------------------------------------------------------------------------------------------------------------------------------+----------+-----------+-----------+-----------+----------+----------------------+------------+---------+------------+--------------+-------+\n",
       "| 82698 | Brunello di Montalcino Riserva |     0      |    1796   |   11500   |       4.6       |      3375     | <a href=https://www.seulementproduitsitaliens.be/spec_collezioni.php?CODICEWT=10BSRI90B>https://www.seulementproduitsitaliens.be/spec_collezioni.php?CODICEWT=10BSRI90B</a> | 3.830859 |    None   | 3.1464493 |  1.650779 | 3.602499 |         173          |    242     |  82698  |   earth    |   primary    |   73  |\n",
       "| 82698 | Brunello di Montalcino Riserva |     0      |    1796   |   11500   |       4.6       |      3375     | <a href=https://www.seulementproduitsitaliens.be/spec_collezioni.php?CODICEWT=10BSRI90B>https://www.seulementproduitsitaliens.be/spec_collezioni.php?CODICEWT=10BSRI90B</a> | 3.830859 |    None   | 3.1464493 |  1.650779 | 3.602499 |         173          |    284     |  82698  |   earth    |   primary    |   46  |\n",
       "| 82698 | Brunello di Montalcino Riserva |     0      |    1796   |   11500   |       4.6       |      3375     | <a href=https://www.seulementproduitsitaliens.be/spec_collezioni.php?CODICEWT=10BSRI90B>https://www.seulementproduitsitaliens.be/spec_collezioni.php?CODICEWT=10BSRI90B</a> | 3.830859 |    None   | 3.1464493 |  1.650779 | 3.602499 |         173          |    156     |  82698  |   earth    |   primary    |   28  |\n",
       "| 82698 | Brunello di Montalcino Riserva |     0      |    1796   |   11500   |       4.6       |      3375     | <a href=https://www.seulementproduitsitaliens.be/spec_collezioni.php?CODICEWT=10BSRI90B>https://www.seulementproduitsitaliens.be/spec_collezioni.php?CODICEWT=10BSRI90B</a> | 3.830859 |    None   | 3.1464493 |  1.650779 | 3.602499 |         173          |     22     |  82698  |   earth    |   primary    |   23  |\n",
       "| 82698 | Brunello di Montalcino Riserva |     0      |    1796   |   11500   |       4.6       |      3375     | <a href=https://www.seulementproduitsitaliens.be/spec_collezioni.php?CODICEWT=10BSRI90B>https://www.seulementproduitsitaliens.be/spec_collezioni.php?CODICEWT=10BSRI90B</a> | 3.830859 |    None   | 3.1464493 |  1.650779 | 3.602499 |         173          |    384     |  82698  |   earth    |   primary    |   21  |\n",
       "+-------+--------------------------------+------------+-----------+-----------+-----------------+---------------+-----------------------------------------------------------------------------------------------------------------------------------------------------------------------------+----------+-----------+-----------+-----------+----------+----------------------+------------+---------+------------+--------------+-------+"
      ]
     },
     "execution_count": 10,
     "metadata": {},
     "output_type": "execute_result"
    }
   ],
   "source": [
    "%%sql --Just a test\n",
    "SELECT *\n",
    "from wines\n",
    "INNER JOIN keywords_wine\n",
    "ON wines.id = keywords_wine.wine_id\n",
    "LIMIT 5"
   ]
  },
  {
   "cell_type": "code",
   "execution_count": 11,
   "metadata": {
    "vscode": {
     "languageId": "sql"
    }
   },
   "outputs": [
    {
     "data": {
      "text/html": [
       "<span style=\"None\">Running query in &#x27;sqlite:///vivino_v2.db&#x27;</span>"
      ],
      "text/plain": [
       "Running query in 'sqlite:///vivino_v2.db'"
      ]
     },
     "metadata": {},
     "output_type": "display_data"
    },
    {
     "name": "stderr",
     "output_type": "stream",
     "text": [
      "UsageError: \n",
      "Looks like there is a syntax error in your query.Possible reason: \n",
      "Syntax Error in SELECT wines.name as wine, keywords.name as keyword, keywords_wine.group_name as flavor group\n",
      "FROM wines\n",
      "JOIN keywords_wine\n",
      "ON wines.id = keywords_wine.wine_id\n",
      "JOIN keywords\n",
      "ON keywords.id = keywords_wine.keyword_id\n",
      "JOIN flavor_groups\n",
      "ON flavor_groups.name = keywords_wine.group_name: Invalid expression / Unexpected token at Line 1, Column 93\n",
      "\n",
      "\n",
      "Original error message from DB driver:\n",
      "(sqlite3.OperationalError) near \"FROM\": syntax error\n",
      "[SQL: SELECT wines.name as wine, keywords.name as keyword, keywords_wine.group_name as flavor group\n",
      "FROM wines\n",
      "JOIN keywords_wine\n",
      "ON wines.id = keywords_wine.wine_id\n",
      "JOIN keywords\n",
      "ON keywords.id = keywords_wine.keyword_id\n",
      "JOIN flavor_groups\n",
      "ON flavor_groups.name = keywords_wine.group_name]\n",
      "(Background on this error at: https://sqlalche.me/e/20/e3q8)\n",
      "\n",
      "If you need help solving this issue, send us a message: https://ploomber.io/community\n"
     ]
    }
   ],
   "source": [
    "%%sql -- THIS ONE DOESNT WORK\n",
    "SELECT wines.name as wine, keywords.name as keyword, keywords_wine.group_name as flavor group\n",
    "FROM wines\n",
    "JOIN keywords_wine\n",
    "ON wines.id = keywords_wine.wine_id\n",
    "JOIN keywords\n",
    "ON keywords.id = keywords_wine.keyword_id\n",
    "JOIN flavor_groups\n",
    "ON flavor_groups.name = keywords_wine.group_name"
   ]
  },
  {
   "cell_type": "code",
   "execution_count": 22,
   "metadata": {
    "vscode": {
     "languageId": "sql"
    }
   },
   "outputs": [
    {
     "data": {
      "text/html": [
       "<span style=\"None\">Running query in &#x27;sqlite:///vivino_v2.db&#x27;</span>"
      ],
      "text/plain": [
       "Running query in 'sqlite:///vivino_v2.db'"
      ]
     },
     "metadata": {},
     "output_type": "display_data"
    },
    {
     "data": {
      "text/html": [
       "<table>\n",
       "    <thead>\n",
       "        <tr>\n",
       "            <th>keyword</th>\n",
       "            <th>wine</th>\n",
       "        </tr>\n",
       "    </thead>\n",
       "    <tbody>\n",
       "        <tr>\n",
       "            <td>coffee</td>\n",
       "            <td>Brunello di Montalcino Riserva</td>\n",
       "        </tr>\n",
       "        <tr>\n",
       "            <td>coffee</td>\n",
       "            <td>Pomerol</td>\n",
       "        </tr>\n",
       "        <tr>\n",
       "            <td>cream</td>\n",
       "            <td>Pomerol</td>\n",
       "        </tr>\n",
       "        <tr>\n",
       "            <td>citrus</td>\n",
       "            <td>Le Mesnil Blanc de Blancs (Cuvée S) Brut Champagne</td>\n",
       "        </tr>\n",
       "        <tr>\n",
       "            <td>toast</td>\n",
       "            <td>Le Mesnil Blanc de Blancs (Cuvée S) Brut Champagne</td>\n",
       "        </tr>\n",
       "        <tr>\n",
       "            <td>coffee</td>\n",
       "            <td>Le Mesnil Blanc de Blancs (Cuvée S) Brut Champagne</td>\n",
       "        </tr>\n",
       "        <tr>\n",
       "            <td>cream</td>\n",
       "            <td>Le Mesnil Blanc de Blancs (Cuvée S) Brut Champagne</td>\n",
       "        </tr>\n",
       "        <tr>\n",
       "            <td>green apple</td>\n",
       "            <td>Le Mesnil Blanc de Blancs (Cuvée S) Brut Champagne</td>\n",
       "        </tr>\n",
       "        <tr>\n",
       "            <td>coffee</td>\n",
       "            <td>Pauillac (Premier Grand Cru Classé)</td>\n",
       "        </tr>\n",
       "        <tr>\n",
       "            <td>toast</td>\n",
       "            <td>Pauillac (Premier Grand Cru Classé)</td>\n",
       "        </tr>\n",
       "    </tbody>\n",
       "</table>\n",
       "<span style=\"font-style:italic;text-align:center;\">801 rows, truncated to displaylimit of 10</span><br><span style=\"font-style:italic;text-align:center;\">If you want to see more, please visit <a href=\"https://jupysql.ploomber.io/en/latest/api/configuration.html#displaylimit\">displaylimit</a> configuration</span>"
      ],
      "text/plain": [
       "+-------------+----------------------------------------------------+\n",
       "|   keyword   |                        wine                        |\n",
       "+-------------+----------------------------------------------------+\n",
       "|    coffee   |           Brunello di Montalcino Riserva           |\n",
       "|    coffee   |                      Pomerol                       |\n",
       "|    cream    |                      Pomerol                       |\n",
       "|    citrus   | Le Mesnil Blanc de Blancs (Cuvée S) Brut Champagne |\n",
       "|    toast    | Le Mesnil Blanc de Blancs (Cuvée S) Brut Champagne |\n",
       "|    coffee   | Le Mesnil Blanc de Blancs (Cuvée S) Brut Champagne |\n",
       "|    cream    | Le Mesnil Blanc de Blancs (Cuvée S) Brut Champagne |\n",
       "| green apple | Le Mesnil Blanc de Blancs (Cuvée S) Brut Champagne |\n",
       "|    coffee   |        Pauillac (Premier Grand Cru Classé)         |\n",
       "|    toast    |        Pauillac (Premier Grand Cru Classé)         |\n",
       "+-------------+----------------------------------------------------+"
      ]
     },
     "execution_count": 22,
     "metadata": {},
     "output_type": "execute_result"
    }
   ],
   "source": [
    "%%sql -- THIS ONE WORKS NEEDS REVIEW\n",
    "SELECT  DISTINCT keywords.name as keyword, wines.name as wine\n",
    "FROM wines\n",
    "JOIN keywords_wine\n",
    "ON wines.id = keywords_wine.wine_id\n",
    "JOIN keywords\n",
    "ON keywords.id = keywords_wine.keyword_id\n",
    "WHERE keywords.name IN ('coffee','toast','green apple', 'cream', 'citrus') AND (keywords_wine.count > 10)\n"
   ]
  },
  {
   "cell_type": "code",
   "execution_count": 13,
   "metadata": {
    "vscode": {
     "languageId": "sql"
    }
   },
   "outputs": [
    {
     "data": {
      "text/html": [
       "<span style=\"None\">Running query in &#x27;sqlite:///vivino_v2.db&#x27;</span>"
      ],
      "text/plain": [
       "Running query in 'sqlite:///vivino_v2.db'"
      ]
     },
     "metadata": {},
     "output_type": "display_data"
    },
    {
     "data": {
      "text/html": [
       "<table>\n",
       "    <thead>\n",
       "        <tr>\n",
       "            <th>keyword</th>\n",
       "            <th>wine</th>\n",
       "        </tr>\n",
       "    </thead>\n",
       "    <tbody>\n",
       "    </tbody>\n",
       "</table>"
      ],
      "text/plain": [
       "+---------+------+\n",
       "| keyword | wine |\n",
       "+---------+------+\n",
       "+---------+------+"
      ]
     },
     "execution_count": 13,
     "metadata": {},
     "output_type": "execute_result"
    }
   ],
   "source": [
    "%%sql -- THIS ONE WORKS NEEDS REVIEW\n",
    "SELECT DISTINCT keywords.name as keyword, wines.name as wine\n",
    "FROM wines\n",
    "JOIN keywords_wine\n",
    "ON wines.id = keywords_wine.wine_id\n",
    "JOIN keywords\n",
    "ON keywords.id = keywords_wine.keyword_id\n",
    "--WHERE keywords.name IN ('coffee','toast','green apple', 'cream', 'citrus') AND (keywords_wine.count > 10)\n",
    "--Adding a lot of ands, so wines have ALL the keywords\n",
    "WHERE ((keywords.name = 'coffee') AND (keywords.name = 'toast') AND (keywords.name = 'green apple') AND (keywords.name = 'cream') AND (keywords.name = 'citrus'))"
   ]
  },
  {
   "cell_type": "code",
   "execution_count": 14,
   "metadata": {
    "vscode": {
     "languageId": "sql"
    }
   },
   "outputs": [
    {
     "data": {
      "text/html": [
       "<span style=\"None\">Running query in &#x27;sqlite:///vivino_v2.db&#x27;</span>"
      ],
      "text/plain": [
       "Running query in 'sqlite:///vivino_v2.db'"
      ]
     },
     "metadata": {},
     "output_type": "display_data"
    },
    {
     "data": {
      "text/html": [
       "<table>\n",
       "    <thead>\n",
       "        <tr>\n",
       "            <th>name</th>\n",
       "        </tr>\n",
       "    </thead>\n",
       "    <tbody>\n",
       "    </tbody>\n",
       "</table>"
      ],
      "text/plain": [
       "+------+\n",
       "| name |\n",
       "+------+\n",
       "+------+"
      ]
     },
     "execution_count": 14,
     "metadata": {},
     "output_type": "execute_result"
    }
   ],
   "source": [
    "%%sql -- THIS ONE WORKS NEEDS REVIEW\n",
    "SELECT name\n",
    "FROM wines\n",
    "WHERE (\n",
    "\n",
    "\n",
    "SELECT DISTINCT keywords.name as keyword\n",
    "FROM wines\n",
    "JOIN keywords_wine\n",
    "ON wines.id = keywords_wine.wine_id\n",
    "JOIN keywords\n",
    "ON keywords.id = keywords_wine.keyword_id\n",
    "--WHERE keywords.name IN ('coffee','toast','green apple', 'cream', 'citrus') AND (keywords_wine.count > 10)\n",
    "--Adding a lot of ands, so wines have ALL the keywords\n",
    "WHERE ((keywords.name = 'coffee') AND (keywords.name = 'toast') AND (keywords.name = 'green apple') AND (keywords.name = 'cream') AND (keywords.name = 'citrus')))"
   ]
  },
  {
   "attachments": {},
   "cell_type": "markdown",
   "metadata": {},
   "source": [
    "We would like to do a selection of wines that are easy to find all over the world. Find the top 3 most common grape all over the world and for each grape, give us the the 5 best rated wines."
   ]
  },
  {
   "cell_type": "code",
   "execution_count": 15,
   "metadata": {
    "vscode": {
     "languageId": "sql"
    }
   },
   "outputs": [
    {
     "data": {
      "text/html": [
       "<span style=\"None\">Running query in &#x27;sqlite:///vivino_v2.db&#x27;</span>"
      ],
      "text/plain": [
       "Running query in 'sqlite:///vivino_v2.db'"
      ]
     },
     "metadata": {},
     "output_type": "display_data"
    },
    {
     "data": {
      "text/html": [
       "<table>\n",
       "    <thead>\n",
       "        <tr>\n",
       "            <th>id</th>\n",
       "            <th>name</th>\n",
       "            <th>id_1</th>\n",
       "            <th>country_code</th>\n",
       "            <th>grape_id</th>\n",
       "            <th>wines_count</th>\n",
       "        </tr>\n",
       "    </thead>\n",
       "    <tbody>\n",
       "        <tr>\n",
       "            <td>2</td>\n",
       "            <td>Cabernet Sauvignon</td>\n",
       "            <td>7</td>\n",
       "            <td>us</td>\n",
       "            <td>2</td>\n",
       "            <td>801751</td>\n",
       "        </tr>\n",
       "        <tr>\n",
       "            <td>2</td>\n",
       "            <td>Cabernet Sauvignon</td>\n",
       "            <td>12</td>\n",
       "            <td>es</td>\n",
       "            <td>2</td>\n",
       "            <td>801751</td>\n",
       "        </tr>\n",
       "        <tr>\n",
       "            <td>2</td>\n",
       "            <td>Cabernet Sauvignon</td>\n",
       "            <td>17</td>\n",
       "            <td>au</td>\n",
       "            <td>2</td>\n",
       "            <td>801751</td>\n",
       "        </tr>\n",
       "        <tr>\n",
       "            <td>2</td>\n",
       "            <td>Cabernet Sauvignon</td>\n",
       "            <td>20</td>\n",
       "            <td>hu</td>\n",
       "            <td>2</td>\n",
       "            <td>801751</td>\n",
       "        </tr>\n",
       "        <tr>\n",
       "            <td>2</td>\n",
       "            <td>Cabernet Sauvignon</td>\n",
       "            <td>22</td>\n",
       "            <td>za</td>\n",
       "            <td>2</td>\n",
       "            <td>801751</td>\n",
       "        </tr>\n",
       "        <tr>\n",
       "            <td>2</td>\n",
       "            <td>Cabernet Sauvignon</td>\n",
       "            <td>28</td>\n",
       "            <td>cl</td>\n",
       "            <td>2</td>\n",
       "            <td>801751</td>\n",
       "        </tr>\n",
       "        <tr>\n",
       "            <td>2</td>\n",
       "            <td>Cabernet Sauvignon</td>\n",
       "            <td>31</td>\n",
       "            <td>md</td>\n",
       "            <td>2</td>\n",
       "            <td>801751</td>\n",
       "        </tr>\n",
       "        <tr>\n",
       "            <td>2</td>\n",
       "            <td>Cabernet Sauvignon</td>\n",
       "            <td>35</td>\n",
       "            <td>ar</td>\n",
       "            <td>2</td>\n",
       "            <td>801751</td>\n",
       "        </tr>\n",
       "        <tr>\n",
       "            <td>2</td>\n",
       "            <td>Cabernet Sauvignon</td>\n",
       "            <td>39</td>\n",
       "            <td>gr</td>\n",
       "            <td>2</td>\n",
       "            <td>801751</td>\n",
       "        </tr>\n",
       "        <tr>\n",
       "            <td>2</td>\n",
       "            <td>Cabernet Sauvignon</td>\n",
       "            <td>40</td>\n",
       "            <td>il</td>\n",
       "            <td>2</td>\n",
       "            <td>801751</td>\n",
       "        </tr>\n",
       "    </tbody>\n",
       "</table>\n",
       "<span style=\"font-style:italic;text-align:center;\">51 rows, truncated to displaylimit of 10</span><br><span style=\"font-style:italic;text-align:center;\">If you want to see more, please visit <a href=\"https://jupysql.ploomber.io/en/latest/api/configuration.html#displaylimit\">displaylimit</a> configuration</span>"
      ],
      "text/plain": [
       "+----+--------------------+------+--------------+----------+-------------+\n",
       "| id |        name        | id_1 | country_code | grape_id | wines_count |\n",
       "+----+--------------------+------+--------------+----------+-------------+\n",
       "| 2  | Cabernet Sauvignon |  7   |      us      |    2     |    801751   |\n",
       "| 2  | Cabernet Sauvignon |  12  |      es      |    2     |    801751   |\n",
       "| 2  | Cabernet Sauvignon |  17  |      au      |    2     |    801751   |\n",
       "| 2  | Cabernet Sauvignon |  20  |      hu      |    2     |    801751   |\n",
       "| 2  | Cabernet Sauvignon |  22  |      za      |    2     |    801751   |\n",
       "| 2  | Cabernet Sauvignon |  28  |      cl      |    2     |    801751   |\n",
       "| 2  | Cabernet Sauvignon |  31  |      md      |    2     |    801751   |\n",
       "| 2  | Cabernet Sauvignon |  35  |      ar      |    2     |    801751   |\n",
       "| 2  | Cabernet Sauvignon |  39  |      gr      |    2     |    801751   |\n",
       "| 2  | Cabernet Sauvignon |  40  |      il      |    2     |    801751   |\n",
       "+----+--------------------+------+--------------+----------+-------------+"
      ]
     },
     "execution_count": 15,
     "metadata": {},
     "output_type": "execute_result"
    }
   ],
   "source": [
    "%%sql\n",
    "--CREATE VIEW top_3_grapes AS\n",
    "SELECT   DISTINCT   grapes.id,grapes.name, most_used_grapes_per_country.*\n",
    "FROM most_used_grapes_per_country\n",
    "JOIN grapes\n",
    "ON most_used_grapes_per_country.grape_id = grapes.id\n",
    "ORDER BY most_used_grapes_per_country.wines_count DESC\n",
    "--limit 3\n"
   ]
  },
  {
   "cell_type": "code",
   "execution_count": 16,
   "metadata": {
    "vscode": {
     "languageId": "sql"
    }
   },
   "outputs": [
    {
     "data": {
      "text/html": [
       "<span style=\"None\">Running query in &#x27;sqlite:///vivino_v2.db&#x27;</span>"
      ],
      "text/plain": [
       "Running query in 'sqlite:///vivino_v2.db'"
      ]
     },
     "metadata": {},
     "output_type": "display_data"
    },
    {
     "name": "stdout",
     "output_type": "stream",
     "text": [
      "(sqlite3.OperationalError) no such view: top_3_grapes\n",
      "[SQL: DROP VIEW top_3_grapes]\n",
      "(Background on this error at: https://sqlalche.me/e/20/e3q8)\n"
     ]
    }
   ],
   "source": [
    "%%sql\n",
    "DROP VIEW top_3_grapes"
   ]
  },
  {
   "cell_type": "code",
   "execution_count": 17,
   "metadata": {
    "vscode": {
     "languageId": "sql"
    }
   },
   "outputs": [
    {
     "data": {
      "text/html": [
       "<span style=\"None\">Running query in &#x27;sqlite:///vivino_v2.db&#x27;</span>"
      ],
      "text/plain": [
       "Running query in 'sqlite:///vivino_v2.db'"
      ]
     },
     "metadata": {},
     "output_type": "display_data"
    },
    {
     "name": "stdout",
     "output_type": "stream",
     "text": [
      "(sqlite3.OperationalError) no such table: top_3_grapes\n",
      "[SQL: SELECT DISTINCT name\n",
      "FROM top_3_grapes]\n",
      "(Background on this error at: https://sqlalche.me/e/20/e3q8)\n"
     ]
    }
   ],
   "source": [
    "%%sql\n",
    "SELECT DISTINCT name\n",
    "FROM top_3_grapes"
   ]
  },
  {
   "cell_type": "code",
   "execution_count": 18,
   "metadata": {
    "vscode": {
     "languageId": "sql"
    }
   },
   "outputs": [
    {
     "data": {
      "text/html": [
       "<span style=\"None\">Running query in &#x27;sqlite:///vivino_v2.db&#x27;</span>"
      ],
      "text/plain": [
       "Running query in 'sqlite:///vivino_v2.db'"
      ]
     },
     "metadata": {},
     "output_type": "display_data"
    },
    {
     "name": "stderr",
     "output_type": "stream",
     "text": [
      "UsageError: \n",
      "Looks like there is a syntax error in your query.Possible reason: \n",
      "Did you mean : ['SELECT FROM grapes']\n",
      "\n",
      "\n",
      "Original error message from DB driver:\n",
      "(sqlite3.OperationalError) near \"FROM\": syntax error\n",
      "[SQL: SELECT \n",
      "FROM grapes]\n",
      "(Background on this error at: https://sqlalche.me/e/20/e3q8)\n",
      "\n",
      "If you need help solving this issue, send us a message: https://ploomber.io/community\n"
     ]
    }
   ],
   "source": [
    "%%sql\n",
    "SELECT \n",
    "FROM grapes"
   ]
  },
  {
   "attachments": {},
   "cell_type": "markdown",
   "metadata": {},
   "source": [
    "We would to give create a country leaderboard, give us a visual that shows the average wine rating for each country. Do the same for the vintages."
   ]
  },
  {
   "cell_type": "code",
   "execution_count": 19,
   "metadata": {
    "vscode": {
     "languageId": "sql"
    }
   },
   "outputs": [
    {
     "data": {
      "text/html": [
       "<span style=\"None\">Running query in &#x27;sqlite:///vivino_v2.db&#x27;</span>"
      ],
      "text/plain": [
       "Running query in 'sqlite:///vivino_v2.db'"
      ]
     },
     "metadata": {},
     "output_type": "display_data"
    },
    {
     "data": {
      "text/html": [
       "<table>\n",
       "    <thead>\n",
       "        <tr>\n",
       "            <th>country</th>\n",
       "            <th>ratings_average</th>\n",
       "        </tr>\n",
       "    </thead>\n",
       "    <tbody>\n",
       "        <tr>\n",
       "            <td>Italie</td>\n",
       "            <td>4.8</td>\n",
       "        </tr>\n",
       "        <tr>\n",
       "            <td>États-Unis</td>\n",
       "            <td>4.8</td>\n",
       "        </tr>\n",
       "        <tr>\n",
       "            <td>Espagne</td>\n",
       "            <td>4.8</td>\n",
       "        </tr>\n",
       "        <tr>\n",
       "            <td>France</td>\n",
       "            <td>4.8</td>\n",
       "        </tr>\n",
       "        <tr>\n",
       "            <td>États-Unis</td>\n",
       "            <td>4.7</td>\n",
       "        </tr>\n",
       "        <tr>\n",
       "            <td>Espagne</td>\n",
       "            <td>4.7</td>\n",
       "        </tr>\n",
       "        <tr>\n",
       "            <td>Hongrie</td>\n",
       "            <td>4.7</td>\n",
       "        </tr>\n",
       "        <tr>\n",
       "            <td>France</td>\n",
       "            <td>4.7</td>\n",
       "        </tr>\n",
       "        <tr>\n",
       "            <td>Italie</td>\n",
       "            <td>4.7</td>\n",
       "        </tr>\n",
       "        <tr>\n",
       "            <td>Australie</td>\n",
       "            <td>4.7</td>\n",
       "        </tr>\n",
       "    </tbody>\n",
       "</table>\n",
       "<span style=\"font-style:italic;text-align:center;\">72 rows, truncated to displaylimit of 10</span><br><span style=\"font-style:italic;text-align:center;\">If you want to see more, please visit <a href=\"https://jupysql.ploomber.io/en/latest/api/configuration.html#displaylimit\">displaylimit</a> configuration</span>"
      ],
      "text/plain": [
       "+------------+-----------------+\n",
       "|  country   | ratings_average |\n",
       "+------------+-----------------+\n",
       "|   Italie   |       4.8       |\n",
       "| États-Unis |       4.8       |\n",
       "|  Espagne   |       4.8       |\n",
       "|   France   |       4.8       |\n",
       "| États-Unis |       4.7       |\n",
       "|  Espagne   |       4.7       |\n",
       "|  Hongrie   |       4.7       |\n",
       "|   France   |       4.7       |\n",
       "|   Italie   |       4.7       |\n",
       "| Australie  |       4.7       |\n",
       "+------------+-----------------+"
      ]
     },
     "execution_count": 19,
     "metadata": {},
     "output_type": "execute_result"
    }
   ],
   "source": [
    "%%sql -- MISSING VINTAGES? VISUALS?\n",
    "SELECT DISTINCT countries.name as country, wines.ratings_average\n",
    "from countries\n",
    "JOIN regions\n",
    "ON countries.code = regions.country_code\n",
    "JOIN wines\n",
    "ON wines.region_id = regions.id\n",
    "ORDER BY wines.ratings_average DESC"
   ]
  },
  {
   "cell_type": "code",
   "execution_count": 20,
   "metadata": {
    "vscode": {
     "languageId": "sql"
    }
   },
   "outputs": [
    {
     "data": {
      "text/html": [
       "<span style=\"None\">Running query in &#x27;sqlite:///vivino_v2.db&#x27;</span>"
      ],
      "text/plain": [
       "Running query in 'sqlite:///vivino_v2.db'"
      ]
     },
     "metadata": {},
     "output_type": "display_data"
    },
    {
     "data": {
      "text/html": [
       "<table>\n",
       "    <thead>\n",
       "        <tr>\n",
       "            <th>country</th>\n",
       "            <th>ratings_average</th>\n",
       "            <th>name</th>\n",
       "            <th>vintage</th>\n",
       "        </tr>\n",
       "    </thead>\n",
       "    <tbody>\n",
       "    </tbody>\n",
       "</table>"
      ],
      "text/plain": [
       "+---------+-----------------+------+---------+\n",
       "| country | ratings_average | name | vintage |\n",
       "+---------+-----------------+------+---------+\n",
       "+---------+-----------------+------+---------+"
      ]
     },
     "execution_count": 20,
     "metadata": {},
     "output_type": "execute_result"
    }
   ],
   "source": [
    "%%sql --Include vintages(not working)\n",
    "SELECT  countries.name as country, wines.ratings_average, vintages.name, vintages.ratings_average as vintage\n",
    "from countries\n",
    "JOIN regions\n",
    "ON countries.code = regions.country_code\n",
    "JOIN wines\n",
    "ON wines.region_id = regions.id\n",
    "JOIN vintages\n",
    "ON vintages.id = wines.id\n",
    "\n"
   ]
  },
  {
   "attachments": {},
   "cell_type": "markdown",
   "metadata": {},
   "source": [
    "Give us any other useful insights you found in our data. Be creative!"
   ]
  },
  {
   "cell_type": "code",
   "execution_count": null,
   "metadata": {
    "vscode": {
     "languageId": "sql"
    }
   },
   "outputs": [],
   "source": []
  },
  {
   "attachments": {},
   "cell_type": "markdown",
   "metadata": {},
   "source": [
    "**Nice-to-have features**"
   ]
  },
  {
   "attachments": {},
   "cell_type": "markdown",
   "metadata": {},
   "source": [
    "One of our VIP client like Cabernet Sauvignon, he would like a top 5 recommandation, which wines would you recommend to him?"
   ]
  },
  {
   "cell_type": "code",
   "execution_count": null,
   "metadata": {
    "vscode": {
     "languageId": "sql"
    }
   },
   "outputs": [],
   "source": []
  }
 ],
 "metadata": {
  "kernelspec": {
   "display_name": "Python 3",
   "language": "python",
   "name": "python3"
  },
  "language_info": {
   "codemirror_mode": {
    "name": "ipython",
    "version": 3
   },
   "file_extension": ".py",
   "mimetype": "text/x-python",
   "name": "python",
   "nbconvert_exporter": "python",
   "pygments_lexer": "ipython3",
   "version": "3.11.3"
  },
  "orig_nbformat": 4
 },
 "nbformat": 4,
 "nbformat_minor": 2
}
