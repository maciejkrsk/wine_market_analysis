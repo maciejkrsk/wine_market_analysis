{
 "cells": [
  {
   "cell_type": "code",
   "execution_count": 2,
   "metadata": {},
   "outputs": [],
   "source": [
    "import matplotlib.pyplot as plt"
   ]
  },
  {
   "cell_type": "code",
   "execution_count": 3,
   "metadata": {
    "vscode": {
     "languageId": "sql"
    }
   },
   "outputs": [],
   "source": [
    "import sqlalchemy"
   ]
  },
  {
   "cell_type": "code",
   "execution_count": 4,
   "metadata": {
    "vscode": {
     "languageId": "sql"
    }
   },
   "outputs": [
    {
     "data": {
      "text/plain": [
       "Engine(sqlite:///vivino_v2.db)"
      ]
     },
     "execution_count": 4,
     "metadata": {},
     "output_type": "execute_result"
    }
   ],
   "source": [
    "sqlalchemy.create_engine('sqlite:///vivino_v2.db')"
   ]
  },
  {
   "cell_type": "code",
   "execution_count": 5,
   "metadata": {},
   "outputs": [],
   "source": [
    "%load_ext sql"
   ]
  },
  {
   "cell_type": "code",
   "execution_count": 6,
   "metadata": {},
   "outputs": [],
   "source": [
    "%sql sqlite:///vivino_v2.db"
   ]
  },
  {
   "attachments": {},
   "cell_type": "markdown",
   "metadata": {},
   "source": [
    "We want to highlight 10 wines to increase our sales, which ones should we choose and why?"
   ]
  },
  {
   "cell_type": "code",
   "execution_count": 7,
   "metadata": {
    "vscode": {
     "languageId": "sql"
    }
   },
   "outputs": [
    {
     "data": {
      "text/html": [
       "<span style=\"None\">Running query in &#x27;sqlite:///vivino_v2.db&#x27;</span>"
      ],
      "text/plain": [
       "Running query in 'sqlite:///vivino_v2.db'"
      ]
     },
     "metadata": {},
     "output_type": "display_data"
    },
    {
     "data": {
      "text/html": [
       "<table>\n",
       "    <thead>\n",
       "        <tr>\n",
       "            <th>name</th>\n",
       "            <th>rating</th>\n",
       "            <th>ratings_count</th>\n",
       "        </tr>\n",
       "    </thead>\n",
       "    <tbody>\n",
       "        <tr>\n",
       "            <td>Cabernet Sauvignon</td>\n",
       "            <td>4.6</td>\n",
       "            <td>157944</td>\n",
       "        </tr>\n",
       "        <tr>\n",
       "            <td>Brut Champagne</td>\n",
       "            <td>4.6</td>\n",
       "            <td>146377</td>\n",
       "        </tr>\n",
       "        <tr>\n",
       "            <td>Tignanello</td>\n",
       "            <td>4.5</td>\n",
       "            <td>142513</td>\n",
       "        </tr>\n",
       "        <tr>\n",
       "            <td>Sassicaia</td>\n",
       "            <td>4.6</td>\n",
       "            <td>107646</td>\n",
       "        </tr>\n",
       "        <tr>\n",
       "            <td>60 Sessantanni Old Vines Primitivo di Manduria</td>\n",
       "            <td>4.5</td>\n",
       "            <td>94289</td>\n",
       "        </tr>\n",
       "        <tr>\n",
       "            <td>Costasera Amarone della Valpolicella Classico</td>\n",
       "            <td>4.3</td>\n",
       "            <td>93397</td>\n",
       "        </tr>\n",
       "        <tr>\n",
       "            <td>ARTEMIS Cabernet Sauvignon</td>\n",
       "            <td>4.4</td>\n",
       "            <td>81351</td>\n",
       "        </tr>\n",
       "        <tr>\n",
       "            <td>Amarone della Valpolicella Classico</td>\n",
       "            <td>4.3</td>\n",
       "            <td>77515</td>\n",
       "        </tr>\n",
       "        <tr>\n",
       "            <td>Opus One</td>\n",
       "            <td>4.6</td>\n",
       "            <td>77053</td>\n",
       "        </tr>\n",
       "        <tr>\n",
       "            <td>Pauillac (Premier Grand Cru Classé)</td>\n",
       "            <td>4.6</td>\n",
       "            <td>73615</td>\n",
       "        </tr>\n",
       "    </tbody>\n",
       "</table>"
      ],
      "text/plain": [
       "+------------------------------------------------+--------+---------------+\n",
       "|                      name                      | rating | ratings_count |\n",
       "+------------------------------------------------+--------+---------------+\n",
       "|               Cabernet Sauvignon               |  4.6   |     157944    |\n",
       "|                 Brut Champagne                 |  4.6   |     146377    |\n",
       "|                   Tignanello                   |  4.5   |     142513    |\n",
       "|                   Sassicaia                    |  4.6   |     107646    |\n",
       "| 60 Sessantanni Old Vines Primitivo di Manduria |  4.5   |     94289     |\n",
       "| Costasera Amarone della Valpolicella Classico  |  4.3   |     93397     |\n",
       "|           ARTEMIS Cabernet Sauvignon           |  4.4   |     81351     |\n",
       "|      Amarone della Valpolicella Classico       |  4.3   |     77515     |\n",
       "|                    Opus One                    |  4.6   |     77053     |\n",
       "|      Pauillac (Premier Grand Cru Classé)       |  4.6   |     73615     |\n",
       "+------------------------------------------------+--------+---------------+"
      ]
     },
     "execution_count": 7,
     "metadata": {},
     "output_type": "execute_result"
    }
   ],
   "source": [
    "%%sql -- DONE\n",
    "SELECT\n",
    "    name,\n",
    "    ratings_average AS rating, ratings_count\n",
    "FROM\n",
    "    wines\n",
    "ORDER BY\n",
    "    ratings_count DESC,rating DESC\n",
    "LIMIT\n",
    "    10"
   ]
  },
  {
   "attachments": {},
   "cell_type": "markdown",
   "metadata": {},
   "source": [
    "We have a marketing budget for this year, which country should we prioritise and why?"
   ]
  },
  {
   "cell_type": "code",
   "execution_count": 8,
   "metadata": {
    "vscode": {
     "languageId": "sql"
    }
   },
   "outputs": [
    {
     "data": {
      "text/html": [
       "<span style=\"None\">Running query in &#x27;sqlite:///vivino_v2.db&#x27;</span>"
      ],
      "text/plain": [
       "Running query in 'sqlite:///vivino_v2.db'"
      ]
     },
     "metadata": {},
     "output_type": "display_data"
    },
    {
     "data": {
      "text/html": [
       "<table>\n",
       "    <thead>\n",
       "        <tr>\n",
       "            <th>country</th>\n",
       "            <th>users</th>\n",
       "            <th>wines</th>\n",
       "            <th>wineries</th>\n",
       "        </tr>\n",
       "    </thead>\n",
       "    <tbody>\n",
       "        <tr>\n",
       "            <td>États-Unis</td>\n",
       "            <td>12273684</td>\n",
       "            <td>204060</td>\n",
       "            <td>28145</td>\n",
       "        </tr>\n",
       "        <tr>\n",
       "            <td>France</td>\n",
       "            <td>5973301</td>\n",
       "            <td>422503</td>\n",
       "            <td>67553</td>\n",
       "        </tr>\n",
       "        <tr>\n",
       "            <td>Italie</td>\n",
       "            <td>4270717</td>\n",
       "            <td>274658</td>\n",
       "            <td>42399</td>\n",
       "        </tr>\n",
       "    </tbody>\n",
       "</table>"
      ],
      "text/plain": [
       "+------------+----------+--------+----------+\n",
       "|  country   |  users   | wines  | wineries |\n",
       "+------------+----------+--------+----------+\n",
       "| États-Unis | 12273684 | 204060 |  28145   |\n",
       "|   France   | 5973301  | 422503 |  67553   |\n",
       "|   Italie   | 4270717  | 274658 |  42399   |\n",
       "+------------+----------+--------+----------+"
      ]
     },
     "execution_count": 8,
     "metadata": {},
     "output_type": "execute_result"
    }
   ],
   "source": [
    "%%sql --DONE\n",
    "SELECT\n",
    "    name AS country,users_count AS users,wines_count AS wines,wineries_count AS wineries\n",
    "FROM\n",
    "    countries\n",
    "ORDER BY\n",
    "    users_count DESC\n",
    "    \n",
    "LIMIT\n",
    "    3"
   ]
  },
  {
   "attachments": {},
   "cell_type": "markdown",
   "metadata": {},
   "source": [
    "We would like to give a price to the best winery, which one should we choose and why?"
   ]
  },
  {
   "cell_type": "code",
   "execution_count": 9,
   "metadata": {
    "vscode": {
     "languageId": "sql"
    }
   },
   "outputs": [
    {
     "data": {
      "text/html": [
       "<span style=\"None\">Running query in &#x27;sqlite:///vivino_v2.db&#x27;</span>"
      ],
      "text/plain": [
       "Running query in 'sqlite:///vivino_v2.db'"
      ]
     },
     "metadata": {},
     "output_type": "display_data"
    },
    {
     "data": {
      "text/html": [
       "<table>\n",
       "    <thead>\n",
       "        <tr>\n",
       "            <th>id</th>\n",
       "            <th>winery</th>\n",
       "            <th>average_rating</th>\n",
       "            <th>total_ratings</th>\n",
       "        </tr>\n",
       "    </thead>\n",
       "    <tbody>\n",
       "        <tr>\n",
       "            <td>1301</td>\n",
       "            <td>Caymus</td>\n",
       "            <td>4.6</td>\n",
       "            <td>199180</td>\n",
       "        </tr>\n",
       "        <tr>\n",
       "            <td>212823</td>\n",
       "            <td>Dom Pérignon</td>\n",
       "            <td>4.6</td>\n",
       "            <td>167667</td>\n",
       "        </tr>\n",
       "        <tr>\n",
       "            <td>1413</td>\n",
       "            <td>Tenuta San Guido</td>\n",
       "            <td>4.6</td>\n",
       "            <td>107646</td>\n",
       "        </tr>\n",
       "    </tbody>\n",
       "</table>"
      ],
      "text/plain": [
       "+--------+------------------+----------------+---------------+\n",
       "|   id   |      winery      | average_rating | total_ratings |\n",
       "+--------+------------------+----------------+---------------+\n",
       "|  1301  |      Caymus      |      4.6       |     199180    |\n",
       "| 212823 |   Dom Pérignon   |      4.6       |     167667    |\n",
       "|  1413  | Tenuta San Guido |      4.6       |     107646    |\n",
       "+--------+------------------+----------------+---------------+"
      ]
     },
     "execution_count": 9,
     "metadata": {},
     "output_type": "execute_result"
    }
   ],
   "source": [
    "%%sql --Complete\n",
    "SELECT wineries.id, wineries.name as winery, wines.ratings_average AS average_rating, SUM(wines.ratings_count) AS total_ratings\n",
    "FROM wineries\n",
    "JOIN wines\n",
    "ON wines.winery_id = wineries.id\n",
    "GROUP BY wineries.name\n",
    "ORDER BY wines.ratings_count DESC\n",
    "LIMIT 3"
   ]
  },
  {
   "attachments": {},
   "cell_type": "markdown",
   "metadata": {},
   "source": [
    "We has detected that a big cluster of customers like a specific combination of tastes. We have identified few primary keywords that matches this and we would like you to find all the wines that have those keywords. To ensure accuracy of our selection, ensure that more than 10 users confirmed those keywords. Also, identify the flavor_groups related to those keywords."
   ]
  },
  {
   "cell_type": "code",
   "execution_count": 10,
   "metadata": {
    "vscode": {
     "languageId": "sql"
    }
   },
   "outputs": [
    {
     "name": "stderr",
     "output_type": "stream",
     "text": [
      "UsageError: Cell magic `%%sql--TEST` not found.\n"
     ]
    }
   ],
   "source": [
    "%%sql--TEST\n",
    "SELECT wines.id, keywords.name as keyword, wines.name as wine, keywords_wine.keyword_type\n",
    "FROM wines\n",
    "JOIN keywords_wine\n",
    "ON wines.id = keywords_wine.wine_id\n",
    "JOIN keywords\n",
    "ON keywords.id = keywords_wine.keyword_id\n",
    "WHERE keywords.name IN ('coffee','toast','green apple', 'cream', 'citrus') AND (keywords_wine.count > 10) AND keywords_wine.keyword_type = 'primary'\n",
    "LIMIT 5\n",
    "--117,417,195,123,106"
   ]
  },
  {
   "cell_type": "code",
   "execution_count": 11,
   "metadata": {
    "vscode": {
     "languageId": "sql"
    }
   },
   "outputs": [
    {
     "data": {
      "text/html": [
       "<span style=\"None\">Running query in &#x27;sqlite:///vivino_v2.db&#x27;</span>"
      ],
      "text/plain": [
       "Running query in 'sqlite:///vivino_v2.db'"
      ]
     },
     "metadata": {},
     "output_type": "display_data"
    },
    {
     "data": {
      "text/html": [
       "<table>\n",
       "    <thead>\n",
       "        <tr>\n",
       "            <th>wine</th>\n",
       "            <th>wine_id</th>\n",
       "            <th>group_name</th>\n",
       "        </tr>\n",
       "    </thead>\n",
       "    <tbody>\n",
       "        <tr>\n",
       "            <td>Tignanello</td>\n",
       "            <td>1652</td>\n",
       "            <td>oak</td>\n",
       "        </tr>\n",
       "        <tr>\n",
       "            <td>Tenuta Guado al Tasso Bolgheri Superiore</td>\n",
       "            <td>1658</td>\n",
       "            <td>oak</td>\n",
       "        </tr>\n",
       "        <tr>\n",
       "            <td>Monte Bello</td>\n",
       "            <td>3715</td>\n",
       "            <td>oak</td>\n",
       "        </tr>\n",
       "        <tr>\n",
       "            <td>Pauillac (Premier Grand Cru Classé)</td>\n",
       "            <td>3908</td>\n",
       "            <td>oak</td>\n",
       "        </tr>\n",
       "        <tr>\n",
       "            <td>Sassicaia</td>\n",
       "            <td>5078</td>\n",
       "            <td>oak</td>\n",
       "        </tr>\n",
       "        <tr>\n",
       "            <td>Chateau Buena Vista Cabernet Sauvignon Napa Valley</td>\n",
       "            <td>5261</td>\n",
       "            <td>oak</td>\n",
       "        </tr>\n",
       "        <tr>\n",
       "            <td>Pavillon Rouge du Château Margaux</td>\n",
       "            <td>6020</td>\n",
       "            <td>oak</td>\n",
       "        </tr>\n",
       "        <tr>\n",
       "            <td>Amarone della Valpolicella Classico</td>\n",
       "            <td>7103</td>\n",
       "            <td>oak</td>\n",
       "        </tr>\n",
       "        <tr>\n",
       "            <td>Brut Cuvée Champagne Rosé</td>\n",
       "            <td>8305</td>\n",
       "            <td>microbio</td>\n",
       "        </tr>\n",
       "        <tr>\n",
       "            <td>Grand Vin de Château Palmer (Grand Cru Classé)</td>\n",
       "            <td>9220</td>\n",
       "            <td>oak</td>\n",
       "        </tr>\n",
       "    </tbody>\n",
       "</table>\n",
       "<span style=\"font-style:italic;text-align:center;\">105 rows, truncated to displaylimit of 10</span><br><span style=\"font-style:italic;text-align:center;\">If you want to see more, please visit <a href=\"https://jupysql.ploomber.io/en/latest/api/configuration.html#displaylimit\">displaylimit</a> configuration</span>"
      ],
      "text/plain": [
       "+----------------------------------------------------+---------+------------+\n",
       "|                        wine                        | wine_id | group_name |\n",
       "+----------------------------------------------------+---------+------------+\n",
       "|                     Tignanello                     |   1652  |    oak     |\n",
       "|      Tenuta Guado al Tasso Bolgheri Superiore      |   1658  |    oak     |\n",
       "|                    Monte Bello                     |   3715  |    oak     |\n",
       "|        Pauillac (Premier Grand Cru Classé)         |   3908  |    oak     |\n",
       "|                     Sassicaia                      |   5078  |    oak     |\n",
       "| Chateau Buena Vista Cabernet Sauvignon Napa Valley |   5261  |    oak     |\n",
       "|         Pavillon Rouge du Château Margaux          |   6020  |    oak     |\n",
       "|        Amarone della Valpolicella Classico         |   7103  |    oak     |\n",
       "|             Brut Cuvée Champagne Rosé              |   8305  |  microbio  |\n",
       "|   Grand Vin de Château Palmer (Grand Cru Classé)   |   9220  |    oak     |\n",
       "+----------------------------------------------------+---------+------------+"
      ]
     },
     "execution_count": 11,
     "metadata": {},
     "output_type": "execute_result"
    }
   ],
   "source": [
    "%%sql\n",
    "SELECT wines.name AS wine,wines.id as wine_id, keywords_wine.group_name\n",
    "FROM wines\n",
    "JOIN keywords_wine ON wines.id = keywords_wine.wine_id\n",
    "JOIN keywords ON keywords.id = keywords_wine.keyword_id\n",
    "WHERE keywords.name IN ('coffee', 'toast', 'green apple', 'cream', 'citrus')\n",
    "AND keywords_wine.keyword_type = 'primary'\n",
    "GROUP BY wines.id, wines.name\n",
    "HAVING COUNT(keywords.id) = 5\n",
    "AND keywords_wine.count > 10"
   ]
  },
  {
   "cell_type": "code",
   "execution_count": 36,
   "metadata": {
    "vscode": {
     "languageId": "sql"
    }
   },
   "outputs": [
    {
     "name": "stderr",
     "output_type": "stream",
     "text": [
      "UsageError: Cell magic `%%sql--TESTS` not found.\n"
     ]
    }
   ],
   "source": [
    "%%sql--TESTS\n",
    "SELECT wines.name AS wine,wines.id as wine_id, COUNT(keywords.id) AS keyword_count, keywords.name\n",
    "FROM wines\n",
    "JOIN keywords_wine ON wines.id = keywords_wine.wine_id\n",
    "JOIN keywords ON keywords.id = keywords_wine.keyword_id\n",
    "WHERE keywords.name IN ('coffee', 'toast', 'green apple', 'cream', 'citrus')\n",
    "  AND keywords_wine.keyword_type = 'primary'\n",
    "GROUP BY wines.id, wines.name\n",
    "HAVING COUNT(keywords.id) = 5\n",
    "AND keywords_wine.count > 10\n",
    "   "
   ]
  },
  {
   "cell_type": "code",
   "execution_count": 37,
   "metadata": {
    "vscode": {
     "languageId": "sql"
    }
   },
   "outputs": [
    {
     "data": {
      "text/html": [
       "<span style=\"None\">Running query in &#x27;sqlite:///vivino_v2.db&#x27;</span>"
      ],
      "text/plain": [
       "Running query in 'sqlite:///vivino_v2.db'"
      ]
     },
     "metadata": {},
     "output_type": "display_data"
    },
    {
     "name": "stdout",
     "output_type": "stream",
     "text": [
      "(sqlite3.OperationalError) ambiguous column name: keywords.name\n",
      "[SQL: SELECT  keywords.name as keyword, wines.name as wine\n",
      "FROM keywords\n",
      "JOIN wines\n",
      "ON wines.id = keywords_wine.wine_id\n",
      "JOIN keywords\n",
      "ON keywords.id = keywords_wine.keyword_id\n",
      "--WHERE keywords.name IN ('coffee','toast','green apple', 'cream', 'citrus') AND (keywords_wine.count > 10)\n",
      "--Adding a lot of ands, so wines have ALL the keywords\n",
      "--WHERE (keywords.name = 'coffee') AND (keywords.name = 'toast') AND (keywords.name = 'green apple') AND (keywords.name = 'cream') AND (keywords.name = 'citrus')]\n",
      "(Background on this error at: https://sqlalche.me/e/20/e3q8)\n"
     ]
    }
   ],
   "source": [
    "%%sql -- TESTS\n",
    "SELECT  keywords.name as keyword, wines.name as wine\n",
    "FROM keywords\n",
    "JOIN wines\n",
    "ON wines.id = keywords_wine.wine_id\n",
    "JOIN keywords\n",
    "ON keywords.id = keywords_wine.keyword_id\n",
    "--WHERE keywords.name IN ('coffee','toast','green apple', 'cream', 'citrus') AND (keywords_wine.count > 10)\n",
    "--Adding a lot of ands, so wines have ALL the keywords\n",
    "--WHERE (keywords.name = 'coffee') AND (keywords.name = 'toast') AND (keywords.name = 'green apple') AND (keywords.name = 'cream') AND (keywords.name = 'citrus')"
   ]
  },
  {
   "attachments": {},
   "cell_type": "markdown",
   "metadata": {},
   "source": [
    "We would like to do a selection of wines that are easy to find all over the world. Find the top 3 most common grape all over the world and for each grape, give us the the 5 best rated wines."
   ]
  },
  {
   "cell_type": "code",
   "execution_count": 38,
   "metadata": {
    "vscode": {
     "languageId": "sql"
    }
   },
   "outputs": [
    {
     "data": {
      "text/html": [
       "<span style=\"None\">Running query in &#x27;sqlite:///vivino_v2.db&#x27;</span>"
      ],
      "text/plain": [
       "Running query in 'sqlite:///vivino_v2.db'"
      ]
     },
     "metadata": {},
     "output_type": "display_data"
    },
    {
     "data": {
      "text/html": [
       "<table>\n",
       "    <thead>\n",
       "        <tr>\n",
       "            <th>grape_name</th>\n",
       "            <th>grape_id</th>\n",
       "            <th>total_world_wide</th>\n",
       "        </tr>\n",
       "    </thead>\n",
       "    <tbody>\n",
       "        <tr>\n",
       "            <td>Cabernet Sauvignon</td>\n",
       "            <td>2</td>\n",
       "            <td>9621012</td>\n",
       "        </tr>\n",
       "        <tr>\n",
       "            <td>Chardonnay</td>\n",
       "            <td>5</td>\n",
       "            <td>3625248</td>\n",
       "        </tr>\n",
       "        <tr>\n",
       "            <td>Pinot Noir</td>\n",
       "            <td>14</td>\n",
       "            <td>1717002</td>\n",
       "        </tr>\n",
       "    </tbody>\n",
       "</table>"
      ],
      "text/plain": [
       "+--------------------+----------+------------------+\n",
       "|     grape_name     | grape_id | total_world_wide |\n",
       "+--------------------+----------+------------------+\n",
       "| Cabernet Sauvignon |    2     |     9621012      |\n",
       "|     Chardonnay     |    5     |     3625248      |\n",
       "|     Pinot Noir     |    14    |     1717002      |\n",
       "+--------------------+----------+------------------+"
      ]
     },
     "execution_count": 38,
     "metadata": {},
     "output_type": "execute_result"
    }
   ],
   "source": [
    "%%sql --COMPLETE\n",
    "SELECT grapes.name AS grape_name, grapes.id AS grape_id, SUM(most_used_grapes_per_country.wines_count) AS total_world_wide\n",
    "FROM most_used_grapes_per_country\n",
    "JOIN grapes\n",
    "ON grapes.id = most_used_grapes_per_country.grape_id\n",
    "GROUP BY most_used_grapes_per_country.wines_count\n",
    "ORDER BY most_used_grapes_per_country.wines_count DESC\n",
    "LIMIT 3"
   ]
  },
  {
   "attachments": {},
   "cell_type": "markdown",
   "metadata": {},
   "source": [
    "We would to give create a country leaderboard, give us a visual that shows the average wine rating for each country. Do the same for the vintages."
   ]
  },
  {
   "cell_type": "code",
   "execution_count": 39,
   "metadata": {
    "vscode": {
     "languageId": "sql"
    }
   },
   "outputs": [
    {
     "data": {
      "text/html": [
       "<span style=\"None\">Running query in &#x27;sqlite:///vivino_v2.db&#x27;</span>"
      ],
      "text/plain": [
       "Running query in 'sqlite:///vivino_v2.db'"
      ]
     },
     "metadata": {},
     "output_type": "display_data"
    },
    {
     "data": {
      "text/html": [
       "<table>\n",
       "    <thead>\n",
       "        <tr>\n",
       "            <th>country</th>\n",
       "            <th>average_rating</th>\n",
       "        </tr>\n",
       "    </thead>\n",
       "    <tbody>\n",
       "        <tr>\n",
       "            <td>Israël</td>\n",
       "            <td>4.5</td>\n",
       "        </tr>\n",
       "        <tr>\n",
       "            <td>Allemagne</td>\n",
       "            <td>4.5</td>\n",
       "        </tr>\n",
       "        <tr>\n",
       "            <td>États-Unis</td>\n",
       "            <td>4.49</td>\n",
       "        </tr>\n",
       "        <tr>\n",
       "            <td>Moldavie</td>\n",
       "            <td>4.48</td>\n",
       "        </tr>\n",
       "        <tr>\n",
       "            <td>Hongrie</td>\n",
       "            <td>4.47</td>\n",
       "        </tr>\n",
       "        <tr>\n",
       "            <td>Australie</td>\n",
       "            <td>4.46</td>\n",
       "        </tr>\n",
       "        <tr>\n",
       "            <td>Afrique du Sud</td>\n",
       "            <td>4.46</td>\n",
       "        </tr>\n",
       "        <tr>\n",
       "            <td>France</td>\n",
       "            <td>4.45</td>\n",
       "        </tr>\n",
       "        <tr>\n",
       "            <td>Portugal</td>\n",
       "            <td>4.44</td>\n",
       "        </tr>\n",
       "        <tr>\n",
       "            <td>Espagne</td>\n",
       "            <td>4.44</td>\n",
       "        </tr>\n",
       "    </tbody>\n",
       "</table>\n",
       "<span style=\"font-style:italic;text-align:center;\">17 rows, truncated to displaylimit of 10</span><br><span style=\"font-style:italic;text-align:center;\">If you want to see more, please visit <a href=\"https://jupysql.ploomber.io/en/latest/api/configuration.html#displaylimit\">displaylimit</a> configuration</span>"
      ],
      "text/plain": [
       "+----------------+----------------+\n",
       "|    country     | average_rating |\n",
       "+----------------+----------------+\n",
       "|     Israël     |      4.5       |\n",
       "|   Allemagne    |      4.5       |\n",
       "|   États-Unis   |      4.49      |\n",
       "|    Moldavie    |      4.48      |\n",
       "|    Hongrie     |      4.47      |\n",
       "|   Australie    |      4.46      |\n",
       "| Afrique du Sud |      4.46      |\n",
       "|     France     |      4.45      |\n",
       "|    Portugal    |      4.44      |\n",
       "|    Espagne     |      4.44      |\n",
       "+----------------+----------------+"
      ]
     },
     "execution_count": 39,
     "metadata": {},
     "output_type": "execute_result"
    }
   ],
   "source": [
    "%%sql -- WITHOUT VINTAGES\n",
    "SELECT DISTINCT countries.name as country, ROUND(AVG(wines.ratings_average),2) AS average_rating\n",
    "from countries\n",
    "JOIN regions\n",
    "ON countries.code = regions.country_code\n",
    "JOIN wines\n",
    "ON wines.region_id = regions.id\n",
    "GROUP BY countries.name\n",
    "ORDER BY average_rating DESC\n"
   ]
  },
  {
   "cell_type": "code",
   "execution_count": 40,
   "metadata": {
    "vscode": {
     "languageId": "sql"
    }
   },
   "outputs": [
    {
     "data": {
      "text/html": [
       "<span style=\"None\">Running query in &#x27;sqlite:///vivino_v2.db&#x27;</span>"
      ],
      "text/plain": [
       "Running query in 'sqlite:///vivino_v2.db'"
      ]
     },
     "metadata": {},
     "output_type": "display_data"
    },
    {
     "data": {
      "text/html": [
       "<table>\n",
       "    <thead>\n",
       "        <tr>\n",
       "            <th>country</th>\n",
       "            <th>average_ratings_vintage</th>\n",
       "        </tr>\n",
       "    </thead>\n",
       "    <tbody>\n",
       "        <tr>\n",
       "            <td>Roumanie</td>\n",
       "            <td>4.5</td>\n",
       "        </tr>\n",
       "        <tr>\n",
       "            <td>Croatie</td>\n",
       "            <td>4.4</td>\n",
       "        </tr>\n",
       "        <tr>\n",
       "            <td>Argentine</td>\n",
       "            <td>4.32</td>\n",
       "        </tr>\n",
       "        <tr>\n",
       "            <td>Chili</td>\n",
       "            <td>4.12</td>\n",
       "        </tr>\n",
       "        <tr>\n",
       "            <td>Portugal</td>\n",
       "            <td>3.93</td>\n",
       "        </tr>\n",
       "        <tr>\n",
       "            <td>Moldavie</td>\n",
       "            <td>3.87</td>\n",
       "        </tr>\n",
       "        <tr>\n",
       "            <td>États-Unis</td>\n",
       "            <td>3.7</td>\n",
       "        </tr>\n",
       "        <tr>\n",
       "            <td>Afrique du Sud</td>\n",
       "            <td>3.66</td>\n",
       "        </tr>\n",
       "        <tr>\n",
       "            <td>Italie</td>\n",
       "            <td>3.63</td>\n",
       "        </tr>\n",
       "        <tr>\n",
       "            <td>Espagne</td>\n",
       "            <td>3.38</td>\n",
       "        </tr>\n",
       "    </tbody>\n",
       "</table>\n",
       "<span style=\"font-style:italic;text-align:center;\">17 rows, truncated to displaylimit of 10</span><br><span style=\"font-style:italic;text-align:center;\">If you want to see more, please visit <a href=\"https://jupysql.ploomber.io/en/latest/api/configuration.html#displaylimit\">displaylimit</a> configuration</span>"
      ],
      "text/plain": [
       "+----------------+-------------------------+\n",
       "|    country     | average_ratings_vintage |\n",
       "+----------------+-------------------------+\n",
       "|    Roumanie    |           4.5           |\n",
       "|    Croatie     |           4.4           |\n",
       "|   Argentine    |           4.32          |\n",
       "|     Chili      |           4.12          |\n",
       "|    Portugal    |           3.93          |\n",
       "|    Moldavie    |           3.87          |\n",
       "|   États-Unis   |           3.7           |\n",
       "| Afrique du Sud |           3.66          |\n",
       "|     Italie     |           3.63          |\n",
       "|    Espagne     |           3.38          |\n",
       "+----------------+-------------------------+"
      ]
     },
     "execution_count": 40,
     "metadata": {},
     "output_type": "execute_result"
    }
   ],
   "source": [
    "%%sql -- INCLUDED VINTAGES\n",
    "SELECT DISTINCT countries.name as country, ROUND(AVG(vintages.ratings_average),2) AS average_ratings_vintage\n",
    "from countries\n",
    "JOIN regions\n",
    "ON countries.code = regions.country_code\n",
    "JOIN wines\n",
    "ON wines.region_id = regions.id\n",
    "-- adding vintages\n",
    "JOIN vintages\n",
    "ON vintages.wine_id = wines.id\n",
    "GROUP BY countries.name\n",
    "ORDER BY average_ratings_vintage DESC\n"
   ]
  },
  {
   "attachments": {},
   "cell_type": "markdown",
   "metadata": {},
   "source": [
    "Give us any other useful insights you found in our data. Be creative!"
   ]
  },
  {
   "cell_type": "code",
   "execution_count": null,
   "metadata": {
    "vscode": {
     "languageId": "sql"
    }
   },
   "outputs": [],
   "source": []
  },
  {
   "attachments": {},
   "cell_type": "markdown",
   "metadata": {},
   "source": [
    "**Nice-to-have features**"
   ]
  },
  {
   "attachments": {},
   "cell_type": "markdown",
   "metadata": {},
   "source": [
    "One of our VIP client like Cabernet Sauvignon, he would like a top 5 recommandation, which wines would you recommend to him?"
   ]
  },
  {
   "cell_type": "code",
   "execution_count": 41,
   "metadata": {
    "vscode": {
     "languageId": "sql"
    }
   },
   "outputs": [
    {
     "data": {
      "text/html": [
       "<span style=\"None\">Running query in &#x27;sqlite:///vivino_v2.db&#x27;</span>"
      ],
      "text/plain": [
       "Running query in 'sqlite:///vivino_v2.db'"
      ]
     },
     "metadata": {},
     "output_type": "display_data"
    },
    {
     "data": {
      "text/html": [
       "<table>\n",
       "    <thead>\n",
       "        <tr>\n",
       "            <th>wine_id</th>\n",
       "            <th>name</th>\n",
       "        </tr>\n",
       "    </thead>\n",
       "    <tbody>\n",
       "        <tr>\n",
       "            <td>1213</td>\n",
       "            <td>Vin Santo di Montepulciano</td>\n",
       "        </tr>\n",
       "        <tr>\n",
       "            <td>1652</td>\n",
       "            <td>Tignanello</td>\n",
       "        </tr>\n",
       "        <tr>\n",
       "            <td>1675</td>\n",
       "            <td>Pian delle Vigne Brunello di Montalcino</td>\n",
       "        </tr>\n",
       "        <tr>\n",
       "            <td>1688</td>\n",
       "            <td>Castello della Sala Cervaro della Sala</td>\n",
       "        </tr>\n",
       "        <tr>\n",
       "            <td>1690</td>\n",
       "            <td>Castello della Sala Muffato della Sala</td>\n",
       "        </tr>\n",
       "    </tbody>\n",
       "</table>"
      ],
      "text/plain": [
       "+---------+-----------------------------------------+\n",
       "| wine_id |                   name                  |\n",
       "+---------+-----------------------------------------+\n",
       "|   1213  |        Vin Santo di Montepulciano       |\n",
       "|   1652  |                Tignanello               |\n",
       "|   1675  | Pian delle Vigne Brunello di Montalcino |\n",
       "|   1688  |  Castello della Sala Cervaro della Sala |\n",
       "|   1690  |  Castello della Sala Muffato della Sala |\n",
       "+---------+-----------------------------------------+"
      ]
     },
     "execution_count": 41,
     "metadata": {},
     "output_type": "execute_result"
    }
   ],
   "source": [
    "%%sql --WITH GRAPE\n",
    "SELECT wines.id AS wine_id, wines.name\n",
    "FROM wines\n",
    "JOIN keywords_wine\n",
    "ON keywords_wine.wine_id = wines.id\n",
    "JOIN keywords\n",
    "ON keywords_wine.keyword_id = keywords.id\n",
    "WHERE keywords_wine.keyword_id = 2\n",
    "LIMIT 5"
   ]
  },
  {
   "cell_type": "code",
   "execution_count": null,
   "metadata": {
    "vscode": {
     "languageId": "sql"
    }
   },
   "outputs": [],
   "source": []
  },
  {
   "attachments": {},
   "cell_type": "markdown",
   "metadata": {},
   "source": [
    "## Plotting"
   ]
  },
  {
   "cell_type": "code",
   "execution_count": null,
   "metadata": {},
   "outputs": [],
   "source": []
  }
 ],
 "metadata": {
  "kernelspec": {
   "display_name": "Python 3",
   "language": "python",
   "name": "python3"
  },
  "language_info": {
   "codemirror_mode": {
    "name": "ipython",
    "version": 3
   },
   "file_extension": ".py",
   "mimetype": "text/x-python",
   "name": "python",
   "nbconvert_exporter": "python",
   "pygments_lexer": "ipython3",
   "version": "3.11.3"
  },
  "orig_nbformat": 4
 },
 "nbformat": 4,
 "nbformat_minor": 2
}
