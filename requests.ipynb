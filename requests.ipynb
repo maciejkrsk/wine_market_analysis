{
 "cells": [
  {
   "cell_type": "code",
   "execution_count": 1,
   "metadata": {
    "vscode": {
     "languageId": "sql"
    }
   },
   "outputs": [],
   "source": [
    "import sqlalchemy"
   ]
  },
  {
   "cell_type": "code",
   "execution_count": 2,
   "metadata": {
    "vscode": {
     "languageId": "sql"
    }
   },
   "outputs": [
    {
     "data": {
      "text/plain": [
       "Engine(sqlite:///vivino_v2.db)"
      ]
     },
     "execution_count": 2,
     "metadata": {},
     "output_type": "execute_result"
    }
   ],
   "source": [
    "sqlalchemy.create_engine('sqlite:///vivino_v2.db')"
   ]
  },
  {
   "cell_type": "code",
   "execution_count": 3,
   "metadata": {},
   "outputs": [],
   "source": [
    "%load_ext sql"
   ]
  },
  {
   "cell_type": "code",
   "execution_count": 4,
   "metadata": {},
   "outputs": [],
   "source": [
    "%sql sqlite:///vivino_v2.db"
   ]
  },
  {
   "attachments": {},
   "cell_type": "markdown",
   "metadata": {},
   "source": [
    "We want to highlight 10 wines to increase our sales, which ones should we choose and why?"
   ]
  },
  {
   "cell_type": "code",
   "execution_count": 5,
   "metadata": {
    "vscode": {
     "languageId": "sql"
    }
   },
   "outputs": [
    {
     "data": {
      "text/html": [
       "<span style=\"None\">Running query in &#x27;sqlite:///vivino_v2.db&#x27;</span>"
      ],
      "text/plain": [
       "Running query in 'sqlite:///vivino_v2.db'"
      ]
     },
     "metadata": {},
     "output_type": "display_data"
    },
    {
     "data": {
      "text/html": [
       "<table>\n",
       "    <thead>\n",
       "        <tr>\n",
       "            <th>name</th>\n",
       "            <th>rating</th>\n",
       "            <th>ratings_count</th>\n",
       "        </tr>\n",
       "    </thead>\n",
       "    <tbody>\n",
       "        <tr>\n",
       "            <td>Cabernet Sauvignon</td>\n",
       "            <td>4.8</td>\n",
       "            <td>2941</td>\n",
       "        </tr>\n",
       "        <tr>\n",
       "            <td>Amarone della Valpolicella Classico Riserva</td>\n",
       "            <td>4.8</td>\n",
       "            <td>587</td>\n",
       "        </tr>\n",
       "        <tr>\n",
       "            <td>Fratini Bolgheri Superiore</td>\n",
       "            <td>4.8</td>\n",
       "            <td>153</td>\n",
       "        </tr>\n",
       "        <tr>\n",
       "            <td>Mágico</td>\n",
       "            <td>4.8</td>\n",
       "            <td>146</td>\n",
       "        </tr>\n",
       "        <tr>\n",
       "            <td>Cristal Rosé Vinothèque</td>\n",
       "            <td>4.8</td>\n",
       "            <td>88</td>\n",
       "        </tr>\n",
       "        <tr>\n",
       "            <td>Batard-Montrachet Grand Cru</td>\n",
       "            <td>4.8</td>\n",
       "            <td>34</td>\n",
       "        </tr>\n",
       "        <tr>\n",
       "            <td>Unico</td>\n",
       "            <td>4.7</td>\n",
       "            <td>45140</td>\n",
       "        </tr>\n",
       "        <tr>\n",
       "            <td>Sauternes</td>\n",
       "            <td>4.7</td>\n",
       "            <td>44126</td>\n",
       "        </tr>\n",
       "        <tr>\n",
       "            <td>Special Selection Cabernet Sauvignon</td>\n",
       "            <td>4.7</td>\n",
       "            <td>41236</td>\n",
       "        </tr>\n",
       "        <tr>\n",
       "            <td>Pomerol</td>\n",
       "            <td>4.7</td>\n",
       "            <td>32157</td>\n",
       "        </tr>\n",
       "    </tbody>\n",
       "</table>"
      ],
      "text/plain": [
       "+---------------------------------------------+--------+---------------+\n",
       "|                     name                    | rating | ratings_count |\n",
       "+---------------------------------------------+--------+---------------+\n",
       "|              Cabernet Sauvignon             |  4.8   |      2941     |\n",
       "| Amarone della Valpolicella Classico Riserva |  4.8   |      587      |\n",
       "|          Fratini Bolgheri Superiore         |  4.8   |      153      |\n",
       "|                    Mágico                   |  4.8   |      146      |\n",
       "|           Cristal Rosé Vinothèque           |  4.8   |       88      |\n",
       "|         Batard-Montrachet Grand Cru         |  4.8   |       34      |\n",
       "|                    Unico                    |  4.7   |     45140     |\n",
       "|                  Sauternes                  |  4.7   |     44126     |\n",
       "|     Special Selection Cabernet Sauvignon    |  4.7   |     41236     |\n",
       "|                   Pomerol                   |  4.7   |     32157     |\n",
       "+---------------------------------------------+--------+---------------+"
      ]
     },
     "execution_count": 5,
     "metadata": {},
     "output_type": "execute_result"
    }
   ],
   "source": [
    "%%sql -- DONE\n",
    "SELECT\n",
    "    name,\n",
    "    ratings_average AS rating, ratings_count\n",
    "FROM\n",
    "    wines\n",
    "ORDER BY\n",
    "    rating DESC, ratings_count DESC\n",
    "LIMIT\n",
    "    10"
   ]
  },
  {
   "attachments": {},
   "cell_type": "markdown",
   "metadata": {},
   "source": [
    "We have a marketing budget for this year, which country should we prioritise and why?"
   ]
  },
  {
   "cell_type": "code",
   "execution_count": 6,
   "metadata": {
    "vscode": {
     "languageId": "sql"
    }
   },
   "outputs": [
    {
     "data": {
      "text/html": [
       "<span style=\"None\">Running query in &#x27;sqlite:///vivino_v2.db&#x27;</span>"
      ],
      "text/plain": [
       "Running query in 'sqlite:///vivino_v2.db'"
      ]
     },
     "metadata": {},
     "output_type": "display_data"
    },
    {
     "data": {
      "text/html": [
       "<table>\n",
       "    <thead>\n",
       "        <tr>\n",
       "            <th>code</th>\n",
       "            <th>name</th>\n",
       "            <th>regions_count</th>\n",
       "            <th>users_count</th>\n",
       "            <th>wines_count</th>\n",
       "            <th>wineries_count</th>\n",
       "        </tr>\n",
       "    </thead>\n",
       "    <tbody>\n",
       "        <tr>\n",
       "            <td>us</td>\n",
       "            <td>États-Unis</td>\n",
       "            <td>362</td>\n",
       "            <td>12273684</td>\n",
       "            <td>204060</td>\n",
       "            <td>28145</td>\n",
       "        </tr>\n",
       "    </tbody>\n",
       "</table>"
      ],
      "text/plain": [
       "+------+------------+---------------+-------------+-------------+----------------+\n",
       "| code |    name    | regions_count | users_count | wines_count | wineries_count |\n",
       "+------+------------+---------------+-------------+-------------+----------------+\n",
       "|  us  | États-Unis |      362      |   12273684  |    204060   |     28145      |\n",
       "+------+------------+---------------+-------------+-------------+----------------+"
      ]
     },
     "execution_count": 6,
     "metadata": {},
     "output_type": "execute_result"
    }
   ],
   "source": [
    "%%sql --DONE\n",
    "SELECT\n",
    "    *\n",
    "FROM\n",
    "    countries\n",
    "ORDER BY\n",
    "    users_count DESC\n",
    "    \n",
    "LIMIT\n",
    "    1"
   ]
  },
  {
   "attachments": {},
   "cell_type": "markdown",
   "metadata": {},
   "source": [
    "We would like to give a price to the best winery, which one should we choose and why?"
   ]
  },
  {
   "cell_type": "code",
   "execution_count": 7,
   "metadata": {
    "vscode": {
     "languageId": "sql"
    }
   },
   "outputs": [
    {
     "data": {
      "text/html": [
       "<span style=\"None\">Running query in &#x27;sqlite:///vivino_v2.db&#x27;</span>"
      ],
      "text/plain": [
       "Running query in 'sqlite:///vivino_v2.db'"
      ]
     },
     "metadata": {},
     "output_type": "display_data"
    },
    {
     "data": {
      "text/html": [
       "<table>\n",
       "    <thead>\n",
       "        <tr>\n",
       "            <th>id</th>\n",
       "            <th>name</th>\n",
       "            <th>ratings_average</th>\n",
       "            <th>SUM(wines.ratings_count)</th>\n",
       "        </tr>\n",
       "    </thead>\n",
       "    <tbody>\n",
       "        <tr>\n",
       "            <td>1301</td>\n",
       "            <td>Caymus</td>\n",
       "            <td>4.6</td>\n",
       "            <td>199180</td>\n",
       "        </tr>\n",
       "        <tr>\n",
       "            <td>212823</td>\n",
       "            <td>Dom Pérignon</td>\n",
       "            <td>4.6</td>\n",
       "            <td>167667</td>\n",
       "        </tr>\n",
       "        <tr>\n",
       "            <td>1413</td>\n",
       "            <td>Tenuta San Guido</td>\n",
       "            <td>4.6</td>\n",
       "            <td>107646</td>\n",
       "        </tr>\n",
       "        <tr>\n",
       "            <td>55648</td>\n",
       "            <td>San Marzano</td>\n",
       "            <td>4.5</td>\n",
       "            <td>94289</td>\n",
       "        </tr>\n",
       "        <tr>\n",
       "            <td>60883</td>\n",
       "            <td>Masi</td>\n",
       "            <td>4.3</td>\n",
       "            <td>101065</td>\n",
       "        </tr>\n",
       "        <tr>\n",
       "            <td>1653</td>\n",
       "            <td>Tommasi</td>\n",
       "            <td>4.3</td>\n",
       "            <td>78089</td>\n",
       "        </tr>\n",
       "        <tr>\n",
       "            <td>64252</td>\n",
       "            <td>Château Mouton Rothschild</td>\n",
       "            <td>4.6</td>\n",
       "            <td>86619</td>\n",
       "        </tr>\n",
       "        <tr>\n",
       "            <td>11049</td>\n",
       "            <td>Alión</td>\n",
       "            <td>4.5</td>\n",
       "            <td>69278</td>\n",
       "        </tr>\n",
       "        <tr>\n",
       "            <td>14607</td>\n",
       "            <td>Pago de Carraovejas</td>\n",
       "            <td>4.4</td>\n",
       "            <td>65625</td>\n",
       "        </tr>\n",
       "        <tr>\n",
       "            <td>1740</td>\n",
       "            <td>Pintia</td>\n",
       "            <td>4.4</td>\n",
       "            <td>60705</td>\n",
       "        </tr>\n",
       "    </tbody>\n",
       "</table>\n",
       "<span style=\"font-style:italic;text-align:center;\">658 rows, truncated to displaylimit of 10</span><br><span style=\"font-style:italic;text-align:center;\">If you want to see more, please visit <a href=\"https://jupysql.ploomber.io/en/latest/api/configuration.html#displaylimit\">displaylimit</a> configuration</span>"
      ],
      "text/plain": [
       "+--------+---------------------------+-----------------+--------------------------+\n",
       "|   id   |            name           | ratings_average | SUM(wines.ratings_count) |\n",
       "+--------+---------------------------+-----------------+--------------------------+\n",
       "|  1301  |           Caymus          |       4.6       |          199180          |\n",
       "| 212823 |        Dom Pérignon       |       4.6       |          167667          |\n",
       "|  1413  |      Tenuta San Guido     |       4.6       |          107646          |\n",
       "| 55648  |        San Marzano        |       4.5       |          94289           |\n",
       "| 60883  |            Masi           |       4.3       |          101065          |\n",
       "|  1653  |          Tommasi          |       4.3       |          78089           |\n",
       "| 64252  | Château Mouton Rothschild |       4.6       |          86619           |\n",
       "| 11049  |           Alión           |       4.5       |          69278           |\n",
       "| 14607  |    Pago de Carraovejas    |       4.4       |          65625           |\n",
       "|  1740  |           Pintia          |       4.4       |          60705           |\n",
       "+--------+---------------------------+-----------------+--------------------------+"
      ]
     },
     "execution_count": 7,
     "metadata": {},
     "output_type": "execute_result"
    }
   ],
   "source": [
    "%%sql --Complete\n",
    "SELECT wineries.id, wineries.name, wines.ratings_average, SUM(wines.ratings_count)\n",
    "FROM wineries\n",
    "JOIN wines\n",
    "ON wines.winery_id = wineries.id\n",
    "GROUP BY wineries.name\n",
    "ORDER BY wines.ratings_count DESC"
   ]
  },
  {
   "attachments": {},
   "cell_type": "markdown",
   "metadata": {},
   "source": [
    "We has detected that a big cluster of customers like a specific combination of tastes. We have identified few primary keywords that matches this and we would like you to find all the wines that have those keywords. To ensure accuracy of our selection, ensure that more than 10 users confirmed those keywords. Also, identify the flavor_groups related to those keywords."
   ]
  },
  {
   "cell_type": "code",
   "execution_count": 8,
   "metadata": {
    "vscode": {
     "languageId": "sql"
    }
   },
   "outputs": [
    {
     "data": {
      "text/html": [
       "<span style=\"None\">Running query in &#x27;sqlite:///vivino_v2.db&#x27;</span>"
      ],
      "text/plain": [
       "Running query in 'sqlite:///vivino_v2.db'"
      ]
     },
     "metadata": {},
     "output_type": "display_data"
    },
    {
     "data": {
      "text/html": [
       "<table>\n",
       "    <thead>\n",
       "        <tr>\n",
       "            <th>id</th>\n",
       "            <th>name</th>\n",
       "            <th>is_natural</th>\n",
       "            <th>region_id</th>\n",
       "            <th>winery_id</th>\n",
       "            <th>ratings_average</th>\n",
       "            <th>ratings_count</th>\n",
       "            <th>url</th>\n",
       "            <th>acidity</th>\n",
       "            <th>fizziness</th>\n",
       "            <th>intensity</th>\n",
       "            <th>sweetness</th>\n",
       "            <th>tannin</th>\n",
       "            <th>user_structure_count</th>\n",
       "            <th>keyword_id</th>\n",
       "            <th>wine_id</th>\n",
       "            <th>group_name</th>\n",
       "            <th>keyword_type</th>\n",
       "            <th>count</th>\n",
       "        </tr>\n",
       "    </thead>\n",
       "    <tbody>\n",
       "        <tr>\n",
       "            <td>82698</td>\n",
       "            <td>Brunello di Montalcino Riserva</td>\n",
       "            <td>0</td>\n",
       "            <td>1796</td>\n",
       "            <td>11500</td>\n",
       "            <td>4.6</td>\n",
       "            <td>3375</td>\n",
       "            <td><a href=https://www.seulementproduitsitaliens.be/spec_collezioni.php?CODICEWT=10BSRI90B>https://www.seulementproduitsitaliens.be/spec_collezioni.php?CODICEWT=10BSRI90B</a></td>\n",
       "            <td>3.830859</td>\n",
       "            <td>None</td>\n",
       "            <td>3.1464493</td>\n",
       "            <td>1.650779</td>\n",
       "            <td>3.602499</td>\n",
       "            <td>173</td>\n",
       "            <td>242</td>\n",
       "            <td>82698</td>\n",
       "            <td>earth</td>\n",
       "            <td>primary</td>\n",
       "            <td>73</td>\n",
       "        </tr>\n",
       "        <tr>\n",
       "            <td>82698</td>\n",
       "            <td>Brunello di Montalcino Riserva</td>\n",
       "            <td>0</td>\n",
       "            <td>1796</td>\n",
       "            <td>11500</td>\n",
       "            <td>4.6</td>\n",
       "            <td>3375</td>\n",
       "            <td><a href=https://www.seulementproduitsitaliens.be/spec_collezioni.php?CODICEWT=10BSRI90B>https://www.seulementproduitsitaliens.be/spec_collezioni.php?CODICEWT=10BSRI90B</a></td>\n",
       "            <td>3.830859</td>\n",
       "            <td>None</td>\n",
       "            <td>3.1464493</td>\n",
       "            <td>1.650779</td>\n",
       "            <td>3.602499</td>\n",
       "            <td>173</td>\n",
       "            <td>284</td>\n",
       "            <td>82698</td>\n",
       "            <td>earth</td>\n",
       "            <td>primary</td>\n",
       "            <td>46</td>\n",
       "        </tr>\n",
       "        <tr>\n",
       "            <td>82698</td>\n",
       "            <td>Brunello di Montalcino Riserva</td>\n",
       "            <td>0</td>\n",
       "            <td>1796</td>\n",
       "            <td>11500</td>\n",
       "            <td>4.6</td>\n",
       "            <td>3375</td>\n",
       "            <td><a href=https://www.seulementproduitsitaliens.be/spec_collezioni.php?CODICEWT=10BSRI90B>https://www.seulementproduitsitaliens.be/spec_collezioni.php?CODICEWT=10BSRI90B</a></td>\n",
       "            <td>3.830859</td>\n",
       "            <td>None</td>\n",
       "            <td>3.1464493</td>\n",
       "            <td>1.650779</td>\n",
       "            <td>3.602499</td>\n",
       "            <td>173</td>\n",
       "            <td>156</td>\n",
       "            <td>82698</td>\n",
       "            <td>earth</td>\n",
       "            <td>primary</td>\n",
       "            <td>28</td>\n",
       "        </tr>\n",
       "        <tr>\n",
       "            <td>82698</td>\n",
       "            <td>Brunello di Montalcino Riserva</td>\n",
       "            <td>0</td>\n",
       "            <td>1796</td>\n",
       "            <td>11500</td>\n",
       "            <td>4.6</td>\n",
       "            <td>3375</td>\n",
       "            <td><a href=https://www.seulementproduitsitaliens.be/spec_collezioni.php?CODICEWT=10BSRI90B>https://www.seulementproduitsitaliens.be/spec_collezioni.php?CODICEWT=10BSRI90B</a></td>\n",
       "            <td>3.830859</td>\n",
       "            <td>None</td>\n",
       "            <td>3.1464493</td>\n",
       "            <td>1.650779</td>\n",
       "            <td>3.602499</td>\n",
       "            <td>173</td>\n",
       "            <td>22</td>\n",
       "            <td>82698</td>\n",
       "            <td>earth</td>\n",
       "            <td>primary</td>\n",
       "            <td>23</td>\n",
       "        </tr>\n",
       "        <tr>\n",
       "            <td>82698</td>\n",
       "            <td>Brunello di Montalcino Riserva</td>\n",
       "            <td>0</td>\n",
       "            <td>1796</td>\n",
       "            <td>11500</td>\n",
       "            <td>4.6</td>\n",
       "            <td>3375</td>\n",
       "            <td><a href=https://www.seulementproduitsitaliens.be/spec_collezioni.php?CODICEWT=10BSRI90B>https://www.seulementproduitsitaliens.be/spec_collezioni.php?CODICEWT=10BSRI90B</a></td>\n",
       "            <td>3.830859</td>\n",
       "            <td>None</td>\n",
       "            <td>3.1464493</td>\n",
       "            <td>1.650779</td>\n",
       "            <td>3.602499</td>\n",
       "            <td>173</td>\n",
       "            <td>384</td>\n",
       "            <td>82698</td>\n",
       "            <td>earth</td>\n",
       "            <td>primary</td>\n",
       "            <td>21</td>\n",
       "        </tr>\n",
       "    </tbody>\n",
       "</table>"
      ],
      "text/plain": [
       "+-------+--------------------------------+------------+-----------+-----------+-----------------+---------------+-----------------------------------------------------------------------------------------------------------------------------------------------------------------------------+----------+-----------+-----------+-----------+----------+----------------------+------------+---------+------------+--------------+-------+\n",
       "|   id  |              name              | is_natural | region_id | winery_id | ratings_average | ratings_count |                                                                                     url                                                                                     | acidity  | fizziness | intensity | sweetness |  tannin  | user_structure_count | keyword_id | wine_id | group_name | keyword_type | count |\n",
       "+-------+--------------------------------+------------+-----------+-----------+-----------------+---------------+-----------------------------------------------------------------------------------------------------------------------------------------------------------------------------+----------+-----------+-----------+-----------+----------+----------------------+------------+---------+------------+--------------+-------+\n",
       "| 82698 | Brunello di Montalcino Riserva |     0      |    1796   |   11500   |       4.6       |      3375     | <a href=https://www.seulementproduitsitaliens.be/spec_collezioni.php?CODICEWT=10BSRI90B>https://www.seulementproduitsitaliens.be/spec_collezioni.php?CODICEWT=10BSRI90B</a> | 3.830859 |    None   | 3.1464493 |  1.650779 | 3.602499 |         173          |    242     |  82698  |   earth    |   primary    |   73  |\n",
       "| 82698 | Brunello di Montalcino Riserva |     0      |    1796   |   11500   |       4.6       |      3375     | <a href=https://www.seulementproduitsitaliens.be/spec_collezioni.php?CODICEWT=10BSRI90B>https://www.seulementproduitsitaliens.be/spec_collezioni.php?CODICEWT=10BSRI90B</a> | 3.830859 |    None   | 3.1464493 |  1.650779 | 3.602499 |         173          |    284     |  82698  |   earth    |   primary    |   46  |\n",
       "| 82698 | Brunello di Montalcino Riserva |     0      |    1796   |   11500   |       4.6       |      3375     | <a href=https://www.seulementproduitsitaliens.be/spec_collezioni.php?CODICEWT=10BSRI90B>https://www.seulementproduitsitaliens.be/spec_collezioni.php?CODICEWT=10BSRI90B</a> | 3.830859 |    None   | 3.1464493 |  1.650779 | 3.602499 |         173          |    156     |  82698  |   earth    |   primary    |   28  |\n",
       "| 82698 | Brunello di Montalcino Riserva |     0      |    1796   |   11500   |       4.6       |      3375     | <a href=https://www.seulementproduitsitaliens.be/spec_collezioni.php?CODICEWT=10BSRI90B>https://www.seulementproduitsitaliens.be/spec_collezioni.php?CODICEWT=10BSRI90B</a> | 3.830859 |    None   | 3.1464493 |  1.650779 | 3.602499 |         173          |     22     |  82698  |   earth    |   primary    |   23  |\n",
       "| 82698 | Brunello di Montalcino Riserva |     0      |    1796   |   11500   |       4.6       |      3375     | <a href=https://www.seulementproduitsitaliens.be/spec_collezioni.php?CODICEWT=10BSRI90B>https://www.seulementproduitsitaliens.be/spec_collezioni.php?CODICEWT=10BSRI90B</a> | 3.830859 |    None   | 3.1464493 |  1.650779 | 3.602499 |         173          |    384     |  82698  |   earth    |   primary    |   21  |\n",
       "+-------+--------------------------------+------------+-----------+-----------+-----------------+---------------+-----------------------------------------------------------------------------------------------------------------------------------------------------------------------------+----------+-----------+-----------+-----------+----------+----------------------+------------+---------+------------+--------------+-------+"
      ]
     },
     "execution_count": 8,
     "metadata": {},
     "output_type": "execute_result"
    }
   ],
   "source": [
    "%%sql --Just a test\n",
    "SELECT *\n",
    "from wines\n",
    "INNER JOIN keywords_wine\n",
    "ON wines.id = keywords_wine.wine_id\n",
    "LIMIT 5"
   ]
  },
  {
   "cell_type": "code",
   "execution_count": 9,
   "metadata": {
    "vscode": {
     "languageId": "sql"
    }
   },
   "outputs": [
    {
     "data": {
      "text/html": [
       "<span style=\"None\">Running query in &#x27;sqlite:///vivino_v2.db&#x27;</span>"
      ],
      "text/plain": [
       "Running query in 'sqlite:///vivino_v2.db'"
      ]
     },
     "metadata": {},
     "output_type": "display_data"
    },
    {
     "name": "stderr",
     "output_type": "stream",
     "text": [
      "UsageError: \n",
      "Looks like there is a syntax error in your query.Possible reason: \n",
      "Syntax Error in SELECT wines.name as wine, keywords.name as keyword, keywords_wine.group_name as flavor group\n",
      "FROM wines\n",
      "JOIN keywords_wine\n",
      "ON wines.id = keywords_wine.wine_id\n",
      "JOIN keywords\n",
      "ON keywords.id = keywords_wine.keyword_id\n",
      "JOIN flavor_groups\n",
      "ON flavor_groups.name = keywords_wine.group_name: Invalid expression / Unexpected token at Line 1, Column 93\n",
      "\n",
      "\n",
      "Original error message from DB driver:\n",
      "(sqlite3.OperationalError) near \"FROM\": syntax error\n",
      "[SQL: SELECT wines.name as wine, keywords.name as keyword, keywords_wine.group_name as flavor group\n",
      "FROM wines\n",
      "JOIN keywords_wine\n",
      "ON wines.id = keywords_wine.wine_id\n",
      "JOIN keywords\n",
      "ON keywords.id = keywords_wine.keyword_id\n",
      "JOIN flavor_groups\n",
      "ON flavor_groups.name = keywords_wine.group_name]\n",
      "(Background on this error at: https://sqlalche.me/e/20/e3q8)\n",
      "\n",
      "If you need help solving this issue, send us a message: https://ploomber.io/community\n"
     ]
    }
   ],
   "source": [
    "%%sql -- THIS ONE DOESNT WORK\n",
    "SELECT wines.name as wine, keywords.name as keyword, keywords_wine.group_name as flavor group\n",
    "FROM wines\n",
    "JOIN keywords_wine\n",
    "ON wines.id = keywords_wine.wine_id\n",
    "JOIN keywords\n",
    "ON keywords.id = keywords_wine.keyword_id\n",
    "JOIN flavor_groups\n",
    "ON flavor_groups.name = keywords_wine.group_name"
   ]
  },
  {
   "cell_type": "code",
   "execution_count": 10,
   "metadata": {
    "vscode": {
     "languageId": "sql"
    }
   },
   "outputs": [
    {
     "data": {
      "text/html": [
       "<span style=\"None\">Running query in &#x27;sqlite:///vivino_v2.db&#x27;</span>"
      ],
      "text/plain": [
       "Running query in 'sqlite:///vivino_v2.db'"
      ]
     },
     "metadata": {},
     "output_type": "display_data"
    },
    {
     "data": {
      "text/html": [
       "<table>\n",
       "    <thead>\n",
       "        <tr>\n",
       "            <th>keyword</th>\n",
       "            <th>wine</th>\n",
       "            <th>keyword_type</th>\n",
       "            <th>id</th>\n",
       "        </tr>\n",
       "    </thead>\n",
       "    <tbody>\n",
       "        <tr>\n",
       "            <td>coffee</td>\n",
       "            <td>Brunello di Montalcino Riserva</td>\n",
       "            <td>primary</td>\n",
       "            <td>82698</td>\n",
       "        </tr>\n",
       "        <tr>\n",
       "            <td>coffee</td>\n",
       "            <td>Pomerol</td>\n",
       "            <td>primary</td>\n",
       "            <td>1166837</td>\n",
       "        </tr>\n",
       "        <tr>\n",
       "            <td>cream</td>\n",
       "            <td>Pomerol</td>\n",
       "            <td>primary</td>\n",
       "            <td>1166837</td>\n",
       "        </tr>\n",
       "        <tr>\n",
       "            <td>citrus</td>\n",
       "            <td>Le Mesnil Blanc de Blancs (Cuvée S) Brut Champagne</td>\n",
       "            <td>primary</td>\n",
       "            <td>1127349</td>\n",
       "        </tr>\n",
       "        <tr>\n",
       "            <td>toast</td>\n",
       "            <td>Le Mesnil Blanc de Blancs (Cuvée S) Brut Champagne</td>\n",
       "            <td>primary</td>\n",
       "            <td>1127349</td>\n",
       "        </tr>\n",
       "        <tr>\n",
       "            <td>coffee</td>\n",
       "            <td>Le Mesnil Blanc de Blancs (Cuvée S) Brut Champagne</td>\n",
       "            <td>primary</td>\n",
       "            <td>1127349</td>\n",
       "        </tr>\n",
       "        <tr>\n",
       "            <td>cream</td>\n",
       "            <td>Le Mesnil Blanc de Blancs (Cuvée S) Brut Champagne</td>\n",
       "            <td>primary</td>\n",
       "            <td>1127349</td>\n",
       "        </tr>\n",
       "        <tr>\n",
       "            <td>green apple</td>\n",
       "            <td>Le Mesnil Blanc de Blancs (Cuvée S) Brut Champagne</td>\n",
       "            <td>primary</td>\n",
       "            <td>1127349</td>\n",
       "        </tr>\n",
       "        <tr>\n",
       "            <td>coffee</td>\n",
       "            <td>Pauillac (Premier Grand Cru Classé)</td>\n",
       "            <td>primary</td>\n",
       "            <td>3908</td>\n",
       "        </tr>\n",
       "        <tr>\n",
       "            <td>toast</td>\n",
       "            <td>Pauillac (Premier Grand Cru Classé)</td>\n",
       "            <td>primary</td>\n",
       "            <td>3908</td>\n",
       "        </tr>\n",
       "    </tbody>\n",
       "</table>\n",
       "<span style=\"font-style:italic;text-align:center;\">949 rows, truncated to displaylimit of 10</span><br><span style=\"font-style:italic;text-align:center;\">If you want to see more, please visit <a href=\"https://jupysql.ploomber.io/en/latest/api/configuration.html#displaylimit\">displaylimit</a> configuration</span>"
      ],
      "text/plain": [
       "+-------------+----------------------------------------------------+--------------+---------+\n",
       "|   keyword   |                        wine                        | keyword_type |    id   |\n",
       "+-------------+----------------------------------------------------+--------------+---------+\n",
       "|    coffee   |           Brunello di Montalcino Riserva           |   primary    |  82698  |\n",
       "|    coffee   |                      Pomerol                       |   primary    | 1166837 |\n",
       "|    cream    |                      Pomerol                       |   primary    | 1166837 |\n",
       "|    citrus   | Le Mesnil Blanc de Blancs (Cuvée S) Brut Champagne |   primary    | 1127349 |\n",
       "|    toast    | Le Mesnil Blanc de Blancs (Cuvée S) Brut Champagne |   primary    | 1127349 |\n",
       "|    coffee   | Le Mesnil Blanc de Blancs (Cuvée S) Brut Champagne |   primary    | 1127349 |\n",
       "|    cream    | Le Mesnil Blanc de Blancs (Cuvée S) Brut Champagne |   primary    | 1127349 |\n",
       "| green apple | Le Mesnil Blanc de Blancs (Cuvée S) Brut Champagne |   primary    | 1127349 |\n",
       "|    coffee   |        Pauillac (Premier Grand Cru Classé)         |   primary    |   3908  |\n",
       "|    toast    |        Pauillac (Premier Grand Cru Classé)         |   primary    |   3908  |\n",
       "+-------------+----------------------------------------------------+--------------+---------+"
      ]
     },
     "execution_count": 10,
     "metadata": {},
     "output_type": "execute_result"
    }
   ],
   "source": [
    "%%sql -- STEP 1\n",
    "SELECT   keywords.name as keyword, wines.name as wine, keywords_wine.keyword_type, wines.id\n",
    "FROM wines\n",
    "JOIN keywords_wine\n",
    "ON wines.id = keywords_wine.wine_id\n",
    "JOIN keywords\n",
    "ON keywords.id = keywords_wine.keyword_id\n",
    "WHERE keywords.name IN ('coffee','toast','green apple', 'cream', 'citrus') AND (keywords_wine.count > 10) AND keywords_wine.keyword_type = 'primary'\n"
   ]
  },
  {
   "cell_type": "code",
   "execution_count": 11,
   "metadata": {
    "vscode": {
     "languageId": "sql"
    }
   },
   "outputs": [
    {
     "data": {
      "text/html": [
       "<span style=\"None\">Running query in &#x27;sqlite:///vivino_v2.db&#x27;</span>"
      ],
      "text/plain": [
       "Running query in 'sqlite:///vivino_v2.db'"
      ]
     },
     "metadata": {},
     "output_type": "display_data"
    },
    {
     "data": {
      "text/html": [
       "<table>\n",
       "    <thead>\n",
       "        <tr>\n",
       "            <th>wine</th>\n",
       "        </tr>\n",
       "    </thead>\n",
       "    <tbody>\n",
       "        <tr>\n",
       "            <td>Brunello di Montalcino Riserva</td>\n",
       "        </tr>\n",
       "        <tr>\n",
       "            <td>Pomerol</td>\n",
       "        </tr>\n",
       "        <tr>\n",
       "            <td>Pomerol</td>\n",
       "        </tr>\n",
       "        <tr>\n",
       "            <td>Le Mesnil Blanc de Blancs (Cuvée S) Brut Champagne</td>\n",
       "        </tr>\n",
       "        <tr>\n",
       "            <td>Le Mesnil Blanc de Blancs (Cuvée S) Brut Champagne</td>\n",
       "        </tr>\n",
       "        <tr>\n",
       "            <td>Le Mesnil Blanc de Blancs (Cuvée S) Brut Champagne</td>\n",
       "        </tr>\n",
       "        <tr>\n",
       "            <td>Le Mesnil Blanc de Blancs (Cuvée S) Brut Champagne</td>\n",
       "        </tr>\n",
       "        <tr>\n",
       "            <td>Le Mesnil Blanc de Blancs (Cuvée S) Brut Champagne</td>\n",
       "        </tr>\n",
       "        <tr>\n",
       "            <td>Pauillac (Premier Grand Cru Classé)</td>\n",
       "        </tr>\n",
       "        <tr>\n",
       "            <td>Pauillac (Premier Grand Cru Classé)</td>\n",
       "        </tr>\n",
       "    </tbody>\n",
       "</table>\n",
       "<span style=\"font-style:italic;text-align:center;\">949 rows, truncated to displaylimit of 10</span><br><span style=\"font-style:italic;text-align:center;\">If you want to see more, please visit <a href=\"https://jupysql.ploomber.io/en/latest/api/configuration.html#displaylimit\">displaylimit</a> configuration</span>"
      ],
      "text/plain": [
       "+----------------------------------------------------+\n",
       "|                        wine                        |\n",
       "+----------------------------------------------------+\n",
       "|           Brunello di Montalcino Riserva           |\n",
       "|                      Pomerol                       |\n",
       "|                      Pomerol                       |\n",
       "| Le Mesnil Blanc de Blancs (Cuvée S) Brut Champagne |\n",
       "| Le Mesnil Blanc de Blancs (Cuvée S) Brut Champagne |\n",
       "| Le Mesnil Blanc de Blancs (Cuvée S) Brut Champagne |\n",
       "| Le Mesnil Blanc de Blancs (Cuvée S) Brut Champagne |\n",
       "| Le Mesnil Blanc de Blancs (Cuvée S) Brut Champagne |\n",
       "|        Pauillac (Premier Grand Cru Classé)         |\n",
       "|        Pauillac (Premier Grand Cru Classé)         |\n",
       "+----------------------------------------------------+"
      ]
     },
     "execution_count": 11,
     "metadata": {},
     "output_type": "execute_result"
    }
   ],
   "source": [
    "%%sql -- STEP 2 FIND A WAY TO RETRIEVE THE ATSTES\n",
    "SELECT  wine \n",
    "\n",
    "FROM  (SELECT  keywords.name as keyword, wines.name as wine, keywords_wine.keyword_type, wines.id\n",
    "FROM wines\n",
    "JOIN keywords_wine\n",
    "ON wines.id = keywords_wine.wine_id\n",
    "JOIN keywords\n",
    "ON keywords.id = keywords_wine.keyword_id\n",
    "WHERE keywords.name IN ('coffee','toast','green apple', 'cream', 'citrus') AND (keywords_wine.count > 10) AND keywords_wine.keyword_type = 'primary') AS huh\n",
    "WHERE wine BETWEEN"
   ]
  },
  {
   "cell_type": "code",
   "execution_count": 12,
   "metadata": {
    "vscode": {
     "languageId": "sql"
    }
   },
   "outputs": [
    {
     "data": {
      "text/html": [
       "<span style=\"None\">Running query in &#x27;sqlite:///vivino_v2.db&#x27;</span>"
      ],
      "text/plain": [
       "Running query in 'sqlite:///vivino_v2.db'"
      ]
     },
     "metadata": {},
     "output_type": "display_data"
    },
    {
     "name": "stdout",
     "output_type": "stream",
     "text": [
      "(sqlite3.OperationalError) ambiguous column name: keywords.name\n",
      "[SQL: SELECT  keywords.name as keyword, wines.name as wine\n",
      "FROM keywords\n",
      "JOIN wines\n",
      "ON wines.id = keywords_wine.wine_id\n",
      "JOIN keywords\n",
      "ON keywords.id = keywords_wine.keyword_id\n",
      "--WHERE keywords.name IN ('coffee','toast','green apple', 'cream', 'citrus') AND (keywords_wine.count > 10)\n",
      "--Adding a lot of ands, so wines have ALL the keywords\n",
      "--WHERE (keywords.name = 'coffee') AND (keywords.name = 'toast') AND (keywords.name = 'green apple') AND (keywords.name = 'cream') AND (keywords.name = 'citrus')]\n",
      "(Background on this error at: https://sqlalche.me/e/20/e3q8)\n"
     ]
    }
   ],
   "source": [
    "%%sql -- SWITCHING FROM\n",
    "SELECT  keywords.name as keyword, wines.name as wine\n",
    "FROM keywords\n",
    "JOIN wines\n",
    "ON wines.id = keywords_wine.wine_id\n",
    "JOIN keywords\n",
    "ON keywords.id = keywords_wine.keyword_id\n",
    "--WHERE keywords.name IN ('coffee','toast','green apple', 'cream', 'citrus') AND (keywords_wine.count > 10)\n",
    "--Adding a lot of ands, so wines have ALL the keywords\n",
    "--WHERE (keywords.name = 'coffee') AND (keywords.name = 'toast') AND (keywords.name = 'green apple') AND (keywords.name = 'cream') AND (keywords.name = 'citrus')"
   ]
  },
  {
   "attachments": {},
   "cell_type": "markdown",
   "metadata": {},
   "source": [
    "We would like to do a selection of wines that are easy to find all over the world. Find the top 3 most common grape all over the world and for each grape, give us the the 5 best rated wines."
   ]
  },
  {
   "cell_type": "code",
   "execution_count": 13,
   "metadata": {
    "vscode": {
     "languageId": "sql"
    }
   },
   "outputs": [
    {
     "data": {
      "text/html": [
       "<span style=\"None\">Running query in &#x27;sqlite:///vivino_v2.db&#x27;</span>"
      ],
      "text/plain": [
       "Running query in 'sqlite:///vivino_v2.db'"
      ]
     },
     "metadata": {},
     "output_type": "display_data"
    },
    {
     "data": {
      "text/html": [
       "<table>\n",
       "    <thead>\n",
       "        <tr>\n",
       "            <th>name</th>\n",
       "            <th>id</th>\n",
       "            <th>total_world_wide</th>\n",
       "        </tr>\n",
       "    </thead>\n",
       "    <tbody>\n",
       "        <tr>\n",
       "            <td>Cabernet Sauvignon</td>\n",
       "            <td>2</td>\n",
       "            <td>9621012</td>\n",
       "        </tr>\n",
       "        <tr>\n",
       "            <td>Chardonnay</td>\n",
       "            <td>5</td>\n",
       "            <td>3625248</td>\n",
       "        </tr>\n",
       "        <tr>\n",
       "            <td>Pinot Noir</td>\n",
       "            <td>14</td>\n",
       "            <td>1717002</td>\n",
       "        </tr>\n",
       "        <tr>\n",
       "            <td>Merlot</td>\n",
       "            <td>10</td>\n",
       "            <td>6233909</td>\n",
       "        </tr>\n",
       "        <tr>\n",
       "            <td>Shiraz/Syrah</td>\n",
       "            <td>1</td>\n",
       "            <td>1653336</td>\n",
       "        </tr>\n",
       "        <tr>\n",
       "            <td>Riesling</td>\n",
       "            <td>15</td>\n",
       "            <td>262136</td>\n",
       "        </tr>\n",
       "        <tr>\n",
       "            <td>Malbec</td>\n",
       "            <td>9</td>\n",
       "            <td>219735</td>\n",
       "        </tr>\n",
       "        <tr>\n",
       "            <td>Tempranillo</td>\n",
       "            <td>19</td>\n",
       "            <td>172842</td>\n",
       "        </tr>\n",
       "        <tr>\n",
       "            <td>Sangiovese</td>\n",
       "            <td>16</td>\n",
       "            <td>125094</td>\n",
       "        </tr>\n",
       "        <tr>\n",
       "            <td>Touriga Nacional</td>\n",
       "            <td>67</td>\n",
       "            <td>85787</td>\n",
       "        </tr>\n",
       "    </tbody>\n",
       "</table>\n",
       "<span style=\"font-style:italic;text-align:center;\">21 rows, truncated to displaylimit of 10</span><br><span style=\"font-style:italic;text-align:center;\">If you want to see more, please visit <a href=\"https://jupysql.ploomber.io/en/latest/api/configuration.html#displaylimit\">displaylimit</a> configuration</span>"
      ],
      "text/plain": [
       "+--------------------+----+------------------+\n",
       "|        name        | id | total_world_wide |\n",
       "+--------------------+----+------------------+\n",
       "| Cabernet Sauvignon | 2  |     9621012      |\n",
       "|     Chardonnay     | 5  |     3625248      |\n",
       "|     Pinot Noir     | 14 |     1717002      |\n",
       "|       Merlot       | 10 |     6233909      |\n",
       "|    Shiraz/Syrah    | 1  |     1653336      |\n",
       "|      Riesling      | 15 |      262136      |\n",
       "|       Malbec       | 9  |      219735      |\n",
       "|    Tempranillo     | 19 |      172842      |\n",
       "|     Sangiovese     | 16 |      125094      |\n",
       "|  Touriga Nacional  | 67 |      85787       |\n",
       "+--------------------+----+------------------+"
      ]
     },
     "execution_count": 13,
     "metadata": {},
     "output_type": "execute_result"
    }
   ],
   "source": [
    "%%sql --COMPLETE\n",
    "SELECT grapes.name, grapes.id, SUM(most_used_grapes_per_country.wines_count) AS total_world_wide\n",
    "FROM most_used_grapes_per_country\n",
    "JOIN grapes\n",
    "ON grapes.id = most_used_grapes_per_country.grape_id\n",
    "GROUP BY most_used_grapes_per_country.wines_count\n",
    "ORDER BY most_used_grapes_per_country.wines_count DESC"
   ]
  },
  {
   "attachments": {},
   "cell_type": "markdown",
   "metadata": {},
   "source": [
    "We would to give create a country leaderboard, give us a visual that shows the average wine rating for each country. Do the same for the vintages."
   ]
  },
  {
   "cell_type": "code",
   "execution_count": 14,
   "metadata": {
    "vscode": {
     "languageId": "sql"
    }
   },
   "outputs": [
    {
     "data": {
      "text/html": [
       "<span style=\"None\">Running query in &#x27;sqlite:///vivino_v2.db&#x27;</span>"
      ],
      "text/plain": [
       "Running query in 'sqlite:///vivino_v2.db'"
      ]
     },
     "metadata": {},
     "output_type": "display_data"
    },
    {
     "data": {
      "text/html": [
       "<table>\n",
       "    <thead>\n",
       "        <tr>\n",
       "            <th>country</th>\n",
       "            <th>average_rating</th>\n",
       "        </tr>\n",
       "    </thead>\n",
       "    <tbody>\n",
       "        <tr>\n",
       "            <td>Israël</td>\n",
       "            <td>4.5</td>\n",
       "        </tr>\n",
       "        <tr>\n",
       "            <td>Allemagne</td>\n",
       "            <td>4.5</td>\n",
       "        </tr>\n",
       "        <tr>\n",
       "            <td>États-Unis</td>\n",
       "            <td>4.491</td>\n",
       "        </tr>\n",
       "        <tr>\n",
       "            <td>Moldavie</td>\n",
       "            <td>4.48</td>\n",
       "        </tr>\n",
       "        <tr>\n",
       "            <td>Hongrie</td>\n",
       "            <td>4.473</td>\n",
       "        </tr>\n",
       "        <tr>\n",
       "            <td>Afrique du Sud</td>\n",
       "            <td>4.459</td>\n",
       "        </tr>\n",
       "        <tr>\n",
       "            <td>Australie</td>\n",
       "            <td>4.458</td>\n",
       "        </tr>\n",
       "        <tr>\n",
       "            <td>France</td>\n",
       "            <td>4.447</td>\n",
       "        </tr>\n",
       "        <tr>\n",
       "            <td>Espagne</td>\n",
       "            <td>4.444</td>\n",
       "        </tr>\n",
       "        <tr>\n",
       "            <td>Portugal</td>\n",
       "            <td>4.436</td>\n",
       "        </tr>\n",
       "    </tbody>\n",
       "</table>\n",
       "<span style=\"font-style:italic;text-align:center;\">17 rows, truncated to displaylimit of 10</span><br><span style=\"font-style:italic;text-align:center;\">If you want to see more, please visit <a href=\"https://jupysql.ploomber.io/en/latest/api/configuration.html#displaylimit\">displaylimit</a> configuration</span>"
      ],
      "text/plain": [
       "+----------------+----------------+\n",
       "|    country     | average_rating |\n",
       "+----------------+----------------+\n",
       "|     Israël     |      4.5       |\n",
       "|   Allemagne    |      4.5       |\n",
       "|   États-Unis   |     4.491      |\n",
       "|    Moldavie    |      4.48      |\n",
       "|    Hongrie     |     4.473      |\n",
       "| Afrique du Sud |     4.459      |\n",
       "|   Australie    |     4.458      |\n",
       "|     France     |     4.447      |\n",
       "|    Espagne     |     4.444      |\n",
       "|    Portugal    |     4.436      |\n",
       "+----------------+----------------+"
      ]
     },
     "execution_count": 14,
     "metadata": {},
     "output_type": "execute_result"
    }
   ],
   "source": [
    "%%sql -- WITHOUT VINTAGES\n",
    "SELECT DISTINCT countries.name as country, ROUND(AVG(wines.ratings_average),3) AS average_rating\n",
    "from countries\n",
    "JOIN regions\n",
    "ON countries.code = regions.country_code\n",
    "JOIN wines\n",
    "ON wines.region_id = regions.id\n",
    "GROUP BY countries.name\n",
    "ORDER BY average_rating DESC\n"
   ]
  },
  {
   "cell_type": "code",
   "execution_count": 15,
   "metadata": {
    "vscode": {
     "languageId": "sql"
    }
   },
   "outputs": [
    {
     "data": {
      "text/html": [
       "<span style=\"None\">Running query in &#x27;sqlite:///vivino_v2.db&#x27;</span>"
      ],
      "text/plain": [
       "Running query in 'sqlite:///vivino_v2.db'"
      ]
     },
     "metadata": {},
     "output_type": "display_data"
    },
    {
     "data": {
      "text/html": [
       "<table>\n",
       "    <thead>\n",
       "        <tr>\n",
       "            <th>country</th>\n",
       "            <th>average_ratings_vintage</th>\n",
       "        </tr>\n",
       "    </thead>\n",
       "    <tbody>\n",
       "        <tr>\n",
       "            <td>Roumanie</td>\n",
       "            <td>4.5</td>\n",
       "        </tr>\n",
       "        <tr>\n",
       "            <td>Croatie</td>\n",
       "            <td>4.4</td>\n",
       "        </tr>\n",
       "        <tr>\n",
       "            <td>Argentine</td>\n",
       "            <td>4.321</td>\n",
       "        </tr>\n",
       "        <tr>\n",
       "            <td>Chili</td>\n",
       "            <td>4.12</td>\n",
       "        </tr>\n",
       "        <tr>\n",
       "            <td>Portugal</td>\n",
       "            <td>3.932</td>\n",
       "        </tr>\n",
       "        <tr>\n",
       "            <td>Moldavie</td>\n",
       "            <td>3.871</td>\n",
       "        </tr>\n",
       "        <tr>\n",
       "            <td>États-Unis</td>\n",
       "            <td>3.698</td>\n",
       "        </tr>\n",
       "        <tr>\n",
       "            <td>Afrique du Sud</td>\n",
       "            <td>3.656</td>\n",
       "        </tr>\n",
       "        <tr>\n",
       "            <td>Italie</td>\n",
       "            <td>3.63</td>\n",
       "        </tr>\n",
       "        <tr>\n",
       "            <td>Espagne</td>\n",
       "            <td>3.381</td>\n",
       "        </tr>\n",
       "    </tbody>\n",
       "</table>\n",
       "<span style=\"font-style:italic;text-align:center;\">17 rows, truncated to displaylimit of 10</span><br><span style=\"font-style:italic;text-align:center;\">If you want to see more, please visit <a href=\"https://jupysql.ploomber.io/en/latest/api/configuration.html#displaylimit\">displaylimit</a> configuration</span>"
      ],
      "text/plain": [
       "+----------------+-------------------------+\n",
       "|    country     | average_ratings_vintage |\n",
       "+----------------+-------------------------+\n",
       "|    Roumanie    |           4.5           |\n",
       "|    Croatie     |           4.4           |\n",
       "|   Argentine    |          4.321          |\n",
       "|     Chili      |           4.12          |\n",
       "|    Portugal    |          3.932          |\n",
       "|    Moldavie    |          3.871          |\n",
       "|   États-Unis   |          3.698          |\n",
       "| Afrique du Sud |          3.656          |\n",
       "|     Italie     |           3.63          |\n",
       "|    Espagne     |          3.381          |\n",
       "+----------------+-------------------------+"
      ]
     },
     "execution_count": 15,
     "metadata": {},
     "output_type": "execute_result"
    }
   ],
   "source": [
    "%%sql -- INCLUDED VINTAGES\n",
    "SELECT DISTINCT countries.name as country, ROUND(AVG(vintages.ratings_average),3) AS average_ratings_vintage\n",
    "from countries\n",
    "JOIN regions\n",
    "ON countries.code = regions.country_code\n",
    "JOIN wines\n",
    "ON wines.region_id = regions.id\n",
    "-- adding vintages\n",
    "JOIN vintages\n",
    "ON vintages.wine_id = wines.id\n",
    "GROUP BY countries.name\n",
    "ORDER BY average_ratings_vintage DESC\n"
   ]
  },
  {
   "attachments": {},
   "cell_type": "markdown",
   "metadata": {},
   "source": [
    "Give us any other useful insights you found in our data. Be creative!"
   ]
  },
  {
   "cell_type": "code",
   "execution_count": null,
   "metadata": {
    "vscode": {
     "languageId": "sql"
    }
   },
   "outputs": [],
   "source": []
  },
  {
   "attachments": {},
   "cell_type": "markdown",
   "metadata": {},
   "source": [
    "**Nice-to-have features**"
   ]
  },
  {
   "attachments": {},
   "cell_type": "markdown",
   "metadata": {},
   "source": [
    "One of our VIP client like Cabernet Sauvignon, he would like a top 5 recommandation, which wines would you recommend to him?"
   ]
  },
  {
   "cell_type": "code",
   "execution_count": null,
   "metadata": {
    "vscode": {
     "languageId": "sql"
    }
   },
   "outputs": [],
   "source": []
  }
 ],
 "metadata": {
  "kernelspec": {
   "display_name": "Python 3",
   "language": "python",
   "name": "python3"
  },
  "language_info": {
   "codemirror_mode": {
    "name": "ipython",
    "version": 3
   },
   "file_extension": ".py",
   "mimetype": "text/x-python",
   "name": "python",
   "nbconvert_exporter": "python",
   "pygments_lexer": "ipython3",
   "version": "3.11.3"
  },
  "orig_nbformat": 4
 },
 "nbformat": 4,
 "nbformat_minor": 2
}
