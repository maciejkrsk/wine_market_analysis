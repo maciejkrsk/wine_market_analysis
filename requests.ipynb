{
 "cells": [
  {
   "cell_type": "code",
   "execution_count": 1,
   "metadata": {
    "vscode": {
     "languageId": "sql"
    }
   },
   "outputs": [],
   "source": [
    "import sqlalchemy"
   ]
  },
  {
   "cell_type": "code",
   "execution_count": 2,
   "metadata": {
    "vscode": {
     "languageId": "sql"
    }
   },
   "outputs": [
    {
     "data": {
      "text/plain": [
       "Engine(sqlite:///vivino.db)"
      ]
     },
     "execution_count": 2,
     "metadata": {},
     "output_type": "execute_result"
    }
   ],
   "source": [
    "sqlalchemy.create_engine('sqlite:///vivino.db')"
   ]
  },
  {
   "cell_type": "code",
   "execution_count": 3,
   "metadata": {
    "vscode": {
     "languageId": "sql"
    }
   },
   "outputs": [],
   "source": [
    "%load_ext SQL"
   ]
  },
  {
   "cell_type": "code",
   "execution_count": 13,
   "metadata": {
    "vscode": {
     "languageId": "sql"
    }
   },
   "outputs": [
    {
     "name": "stderr",
     "output_type": "stream",
     "text": [
      "UsageError: Line magic function `%` not found.\n"
     ]
    }
   ],
   "source": [
    "%%SQL sqlite: / / / vivino.db"
   ]
  },
  {
   "cell_type": "code",
   "execution_count": 16,
   "metadata": {
    "vscode": {
     "languageId": "sql"
    }
   },
   "outputs": [
    {
     "name": "stdout",
     "output_type": "stream",
     "text": [
      " * sqlite:///vivino.db\n",
      "Done.\n"
     ]
    },
    {
     "data": {
      "text/html": [
       "<table>\n",
       "    <thead>\n",
       "        <tr>\n",
       "            <th>code</th>\n",
       "            <th>name</th>\n",
       "            <th>regions_count</th>\n",
       "            <th>users_count</th>\n",
       "            <th>wines_count</th>\n",
       "            <th>wineries_count</th>\n",
       "        </tr>\n",
       "    </thead>\n",
       "    <tbody>\n",
       "        <tr>\n",
       "            <td>it</td>\n",
       "            <td>Italie</td>\n",
       "            <td>563</td>\n",
       "            <td>4270717</td>\n",
       "            <td>274658</td>\n",
       "            <td>42399</td>\n",
       "        </tr>\n",
       "        <tr>\n",
       "            <td>fr</td>\n",
       "            <td>France</td>\n",
       "            <td>1306</td>\n",
       "            <td>5973301</td>\n",
       "            <td>422503</td>\n",
       "            <td>67553</td>\n",
       "        </tr>\n",
       "        <tr>\n",
       "            <td>us</td>\n",
       "            <td>États-Unis</td>\n",
       "            <td>362</td>\n",
       "            <td>12273684</td>\n",
       "            <td>204060</td>\n",
       "            <td>28145</td>\n",
       "        </tr>\n",
       "        <tr>\n",
       "            <td>es</td>\n",
       "            <td>Espagne</td>\n",
       "            <td>152</td>\n",
       "            <td>2264396</td>\n",
       "            <td>102662</td>\n",
       "            <td>18026</td>\n",
       "        </tr>\n",
       "        <tr>\n",
       "            <td>pt</td>\n",
       "            <td>Portugal</td>\n",
       "            <td>93</td>\n",
       "            <td>1123535</td>\n",
       "            <td>39847</td>\n",
       "            <td>5834</td>\n",
       "        </tr>\n",
       "        <tr>\n",
       "            <td>au</td>\n",
       "            <td>Australie</td>\n",
       "            <td>120</td>\n",
       "            <td>1022965</td>\n",
       "            <td>90954</td>\n",
       "            <td>13946</td>\n",
       "        </tr>\n",
       "        <tr>\n",
       "            <td>hu</td>\n",
       "            <td>Hongrie</td>\n",
       "            <td>29</td>\n",
       "            <td>102235</td>\n",
       "            <td>16605</td>\n",
       "            <td>1923</td>\n",
       "        </tr>\n",
       "        <tr>\n",
       "            <td>za</td>\n",
       "            <td>Afrique du Sud</td>\n",
       "            <td>112</td>\n",
       "            <td>269649</td>\n",
       "            <td>30857</td>\n",
       "            <td>4227</td>\n",
       "        </tr>\n",
       "        <tr>\n",
       "            <td>de</td>\n",
       "            <td>Allemagne</td>\n",
       "            <td>236</td>\n",
       "            <td>2549989</td>\n",
       "            <td>164533</td>\n",
       "            <td>13643</td>\n",
       "        </tr>\n",
       "        <tr>\n",
       "            <td>cl</td>\n",
       "            <td>Chili</td>\n",
       "            <td>41</td>\n",
       "            <td>326757</td>\n",
       "            <td>41191</td>\n",
       "            <td>5785</td>\n",
       "        </tr>\n",
       "        <tr>\n",
       "            <td>md</td>\n",
       "            <td>Moldavie</td>\n",
       "            <td>9</td>\n",
       "            <td>13583</td>\n",
       "            <td>5055</td>\n",
       "            <td>418</td>\n",
       "        </tr>\n",
       "        <tr>\n",
       "            <td>ar</td>\n",
       "            <td>Argentine</td>\n",
       "            <td>41</td>\n",
       "            <td>629532</td>\n",
       "            <td>36121</td>\n",
       "            <td>5339</td>\n",
       "        </tr>\n",
       "        <tr>\n",
       "            <td>gr</td>\n",
       "            <td>Grèce</td>\n",
       "            <td>140</td>\n",
       "            <td>95693</td>\n",
       "            <td>9581</td>\n",
       "            <td>1294</td>\n",
       "        </tr>\n",
       "        <tr>\n",
       "            <td>il</td>\n",
       "            <td>Israël</td>\n",
       "            <td>20</td>\n",
       "            <td>150549</td>\n",
       "            <td>5435</td>\n",
       "            <td>529</td>\n",
       "        </tr>\n",
       "        <tr>\n",
       "            <td>ro</td>\n",
       "            <td>Roumanie</td>\n",
       "            <td>27</td>\n",
       "            <td>228185</td>\n",
       "            <td>6841</td>\n",
       "            <td>686</td>\n",
       "        </tr>\n",
       "        <tr>\n",
       "            <td>hr</td>\n",
       "            <td>Croatie</td>\n",
       "            <td>22</td>\n",
       "            <td>64223</td>\n",
       "            <td>5880</td>\n",
       "            <td>980</td>\n",
       "        </tr>\n",
       "        <tr>\n",
       "            <td>ch</td>\n",
       "            <td>Suisse</td>\n",
       "            <td>73</td>\n",
       "            <td>1601799</td>\n",
       "            <td>33656</td>\n",
       "            <td>3849</td>\n",
       "        </tr>\n",
       "    </tbody>\n",
       "</table>"
      ],
      "text/plain": [
       "[('it', 'Italie', 563, 4270717, 274658, 42399),\n",
       " ('fr', 'France', 1306, 5973301, 422503, 67553),\n",
       " ('us', 'États-Unis', 362, 12273684, 204060, 28145),\n",
       " ('es', 'Espagne', 152, 2264396, 102662, 18026),\n",
       " ('pt', 'Portugal', 93, 1123535, 39847, 5834),\n",
       " ('au', 'Australie', 120, 1022965, 90954, 13946),\n",
       " ('hu', 'Hongrie', 29, 102235, 16605, 1923),\n",
       " ('za', 'Afrique du Sud', 112, 269649, 30857, 4227),\n",
       " ('de', 'Allemagne', 236, 2549989, 164533, 13643),\n",
       " ('cl', 'Chili', 41, 326757, 41191, 5785),\n",
       " ('md', 'Moldavie', 9, 13583, 5055, 418),\n",
       " ('ar', 'Argentine', 41, 629532, 36121, 5339),\n",
       " ('gr', 'Grèce', 140, 95693, 9581, 1294),\n",
       " ('il', 'Israël', 20, 150549, 5435, 529),\n",
       " ('ro', 'Roumanie', 27, 228185, 6841, 686),\n",
       " ('hr', 'Croatie', 22, 64223, 5880, 980),\n",
       " ('ch', 'Suisse', 73, 1601799, 33656, 3849)]"
      ]
     },
     "execution_count": 16,
     "metadata": {},
     "output_type": "execute_result"
    }
   ],
   "source": [
    "%%sql\n",
    "SELECT\n",
    "    *\n",
    "FROM\n",
    "    countries"
   ]
  },
  {
   "attachments": {},
   "cell_type": "markdown",
   "metadata": {},
   "source": [
    "We want to highlight 10 wines to increase our sales, which ones should we choose and why?"
   ]
  },
  {
   "cell_type": "code",
   "execution_count": 17,
   "metadata": {
    "vscode": {
     "languageId": "sql"
    }
   },
   "outputs": [
    {
     "name": "stdout",
     "output_type": "stream",
     "text": [
      " * sqlite:///vivino.db\n",
      "Done.\n"
     ]
    },
    {
     "data": {
      "text/html": [
       "<table>\n",
       "    <thead>\n",
       "        <tr>\n",
       "            <th>name</th>\n",
       "            <th>rating</th>\n",
       "        </tr>\n",
       "    </thead>\n",
       "    <tbody>\n",
       "        <tr>\n",
       "            <td>Amarone della Valpolicella Classico Riserva</td>\n",
       "            <td>4.8</td>\n",
       "        </tr>\n",
       "        <tr>\n",
       "            <td>Cabernet Sauvignon</td>\n",
       "            <td>4.8</td>\n",
       "        </tr>\n",
       "        <tr>\n",
       "            <td>Mágico</td>\n",
       "            <td>4.8</td>\n",
       "        </tr>\n",
       "        <tr>\n",
       "            <td>Fratini Bolgheri Superiore</td>\n",
       "            <td>4.8</td>\n",
       "        </tr>\n",
       "        <tr>\n",
       "            <td>Cristal Rosé Vinothèque</td>\n",
       "            <td>4.8</td>\n",
       "        </tr>\n",
       "        <tr>\n",
       "            <td>Batard-Montrachet Grand Cru</td>\n",
       "            <td>4.8</td>\n",
       "        </tr>\n",
       "        <tr>\n",
       "            <td>IX Estate Red</td>\n",
       "            <td>4.7</td>\n",
       "        </tr>\n",
       "        <tr>\n",
       "            <td>Special Selection Cabernet Sauvignon</td>\n",
       "            <td>4.7</td>\n",
       "        </tr>\n",
       "        <tr>\n",
       "            <td>Unico Reserva Especial Edición</td>\n",
       "            <td>4.7</td>\n",
       "        </tr>\n",
       "        <tr>\n",
       "            <td>Unico</td>\n",
       "            <td>4.7</td>\n",
       "        </tr>\n",
       "    </tbody>\n",
       "</table>"
      ],
      "text/plain": [
       "[('Amarone della Valpolicella Classico Riserva', 4.8),\n",
       " ('Cabernet Sauvignon', 4.8),\n",
       " ('Mágico', 4.8),\n",
       " ('Fratini Bolgheri Superiore', 4.8),\n",
       " ('Cristal Rosé Vinothèque', 4.8),\n",
       " ('Batard-Montrachet Grand Cru', 4.8),\n",
       " ('IX Estate Red', 4.7),\n",
       " ('Special Selection Cabernet Sauvignon', 4.7),\n",
       " ('Unico Reserva Especial Edición', 4.7),\n",
       " ('Unico', 4.7)]"
      ]
     },
     "execution_count": 17,
     "metadata": {},
     "output_type": "execute_result"
    }
   ],
   "source": [
    "%%sql -- The top 10 with the best ratings\n",
    "SELECT\n",
    "    name,\n",
    "    ratings_average AS rating\n",
    "FROM\n",
    "    wines\n",
    "ORDER BY\n",
    "    rating DESC\n",
    "LIMIT\n",
    "    10"
   ]
  },
  {
   "attachments": {},
   "cell_type": "markdown",
   "metadata": {},
   "source": [
    "We have a marketing budget for this year, which country should we prioritise and why?"
   ]
  },
  {
   "cell_type": "code",
   "execution_count": 22,
   "metadata": {
    "vscode": {
     "languageId": "sql"
    }
   },
   "outputs": [
    {
     "name": "stdout",
     "output_type": "stream",
     "text": [
      " * sqlite:///vivino.db\n",
      "Done.\n"
     ]
    },
    {
     "data": {
      "text/html": [
       "<table>\n",
       "    <thead>\n",
       "        <tr>\n",
       "            <th>code</th>\n",
       "            <th>name</th>\n",
       "            <th>regions_count</th>\n",
       "            <th>users_count</th>\n",
       "            <th>wines_count</th>\n",
       "            <th>wineries_count</th>\n",
       "        </tr>\n",
       "    </thead>\n",
       "    <tbody>\n",
       "        <tr>\n",
       "            <td>us</td>\n",
       "            <td>États-Unis</td>\n",
       "            <td>362</td>\n",
       "            <td>12273684</td>\n",
       "            <td>204060</td>\n",
       "            <td>28145</td>\n",
       "        </tr>\n",
       "    </tbody>\n",
       "</table>"
      ],
      "text/plain": [
       "[('us', 'États-Unis', 362, 12273684, 204060, 28145)]"
      ]
     },
     "execution_count": 22,
     "metadata": {},
     "output_type": "execute_result"
    }
   ],
   "source": [
    "%%sql -- The one with the biggest consumer count\n",
    "SELECT\n",
    "    *\n",
    "FROM\n",
    "    countries\n",
    "ORDER BY\n",
    "    users_count DESC,\n",
    "    wineries_count DESC\n",
    "LIMIT\n",
    "    1"
   ]
  },
  {
   "attachments": {},
   "cell_type": "markdown",
   "metadata": {},
   "source": [
    "We would like to give a price to the best winery, which one should we choose and why?"
   ]
  },
  {
   "cell_type": "code",
   "execution_count": 11,
   "metadata": {
    "vscode": {
     "languageId": "sql"
    }
   },
   "outputs": [
    {
     "name": "stdout",
     "output_type": "stream",
     "text": [
      " * sqlite:///vivino.db\n",
      "Done.\n"
     ]
    },
    {
     "data": {
      "text/html": [
       "<table>\n",
       "    <thead>\n",
       "        <tr>\n",
       "            <th>name</th>\n",
       "            <th>ratings_count</th>\n",
       "            <th>winery</th>\n",
       "        </tr>\n",
       "    </thead>\n",
       "    <tbody>\n",
       "        <tr>\n",
       "            <td>Lion Tamer Napa Valley Red Blend</td>\n",
       "            <td>4981</td>\n",
       "            <td>Siepi</td>\n",
       "        </tr>\n",
       "        <tr>\n",
       "            <td>The Armagh Shiraz</td>\n",
       "            <td>2472</td>\n",
       "            <td>Tenuta Tignanello &#x27;Solaia&#x27;</td>\n",
       "        </tr>\n",
       "        <tr>\n",
       "            <td>Colheita Porto</td>\n",
       "            <td>741</td>\n",
       "            <td>Tignanello</td>\n",
       "        </tr>\n",
       "        <tr>\n",
       "            <td>Raut Lagrein</td>\n",
       "            <td>58</td>\n",
       "            <td>Corte di Cama Sforzato di Valtellina</td>\n",
       "        </tr>\n",
       "    </tbody>\n",
       "</table>"
      ],
      "text/plain": [
       "[('Lion Tamer Napa Valley Red Blend', 4981, 'Siepi'),\n",
       " ('The Armagh Shiraz', 2472, \"Tenuta Tignanello 'Solaia'\"),\n",
       " ('Colheita Porto', 741, 'Tignanello'),\n",
       " ('Raut Lagrein', 58, 'Corte di Cama Sforzato di Valtellina')]"
      ]
     },
     "execution_count": 11,
     "metadata": {},
     "output_type": "execute_result"
    }
   ],
   "source": [
    "%%sql\n",
    "SELECT\n",
    "    wine.name,\n",
    "    wine.ratings_count,\n",
    "    winery.name AS winery\n",
    "FROM\n",
    "    wines AS wine\n",
    "    INNER JOIN wineries AS winery ON wine.winery_id = winery.id\n",
    "ORDER BY\n",
    "    wine.ratings_count DESC"
   ]
  },
  {
   "attachments": {},
   "cell_type": "markdown",
   "metadata": {},
   "source": [
    "We has detected that a big cluster of customers like a specific combination of tastes. We have identified few primary keywords that matches this and we would like you to find all the wines that have those keywords. To ensure accuracy of our selection, ensure that more than 10 users confirmed those keywords. Also, identify the flavor_groups related to those keywords."
   ]
  },
  {
   "cell_type": "code",
   "execution_count": 18,
   "metadata": {
    "vscode": {
     "languageId": "sql"
    }
   },
   "outputs": [
    {
     "name": "stdout",
     "output_type": "stream",
     "text": [
      " * sqlite:///vivino.db\n",
      "(sqlite3.OperationalError) incomplete input\n",
      "[SQL: SELECT\n",
      "    *\n",
      "FROM\n",
      "    wines AS w\n",
      "    INNER JOIN keywords_wine AS kyw ON w.id = kyw.wine_id\n",
      "WHERE\n",
      "    kyw.]\n",
      "(Background on this error at: https://sqlalche.me/e/20/e3q8)\n"
     ]
    }
   ],
   "source": [
    "%%sql\n",
    "SELECT\n",
    "    *\n",
    "FROM\n",
    "    wines AS w\n",
    "    INNER JOIN keywords_wine AS kyw ON w.id = kyw.wine_id\n",
    "WHERE\n",
    "    kyw."
   ]
  },
  {
   "attachments": {},
   "cell_type": "markdown",
   "metadata": {},
   "source": [
    "We would like to do a selection of wines that are easy to find all over the world. Find the top 3 most common grape all over the world and for each grape, give us the the 5 best rated wines."
   ]
  },
  {
   "cell_type": "code",
   "execution_count": null,
   "metadata": {
    "vscode": {
     "languageId": "sql"
    }
   },
   "outputs": [],
   "source": []
  },
  {
   "attachments": {},
   "cell_type": "markdown",
   "metadata": {},
   "source": [
    "We would to give create a country leaderboard, give us a visual that shows the average wine rating for each country. Do the same for the vintages."
   ]
  },
  {
   "cell_type": "code",
   "execution_count": null,
   "metadata": {
    "vscode": {
     "languageId": "sql"
    }
   },
   "outputs": [],
   "source": []
  },
  {
   "attachments": {},
   "cell_type": "markdown",
   "metadata": {},
   "source": [
    "Give us any other useful insights you found in our data. Be creative!"
   ]
  },
  {
   "cell_type": "code",
   "execution_count": null,
   "metadata": {
    "vscode": {
     "languageId": "sql"
    }
   },
   "outputs": [],
   "source": []
  },
  {
   "attachments": {},
   "cell_type": "markdown",
   "metadata": {},
   "source": [
    "**Nice-to-have features**"
   ]
  },
  {
   "attachments": {},
   "cell_type": "markdown",
   "metadata": {},
   "source": [
    "One of our VIP client like Cabernet Sauvignon, he would like a top 5 recommandation, which wines would you recommend to him?"
   ]
  },
  {
   "cell_type": "code",
   "execution_count": null,
   "metadata": {
    "vscode": {
     "languageId": "sql"
    }
   },
   "outputs": [],
   "source": []
  }
 ],
 "metadata": {
  "kernelspec": {
   "display_name": "Python 3",
   "language": "python",
   "name": "python3"
  },
  "language_info": {
   "codemirror_mode": {
    "name": "ipython",
    "version": 3
   },
   "file_extension": ".py",
   "mimetype": "text/x-python",
   "name": "python",
   "nbconvert_exporter": "python",
   "pygments_lexer": "ipython3",
   "version": "3.11.3"
  },
  "orig_nbformat": 4
 },
 "nbformat": 4,
 "nbformat_minor": 2
}
