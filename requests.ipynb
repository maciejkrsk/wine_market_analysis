{
 "cells": [
  {
   "cell_type": "code",
   "execution_count": null,
   "metadata": {
    "vscode": {
     "languageId": "sql"
    }
   },
   "outputs": [],
   "source": [
    "import sqlalchemy"
   ]
  },
  {
   "cell_type": "code",
   "execution_count": null,
   "metadata": {
    "vscode": {
     "languageId": "sql"
    }
   },
   "outputs": [],
   "source": [
    "sqlalchemy.create_engine('sqlite:///vivino_v2.db')"
   ]
  },
  {
   "cell_type": "code",
   "execution_count": null,
   "metadata": {},
   "outputs": [],
   "source": [
    "%load_ext sql"
   ]
  },
  {
   "cell_type": "code",
   "execution_count": null,
   "metadata": {},
   "outputs": [],
   "source": [
    "%sql sqlite:///vivino_v2.db"
   ]
  },
  {
   "attachments": {},
   "cell_type": "markdown",
   "metadata": {},
   "source": [
    "We want to highlight 10 wines to increase our sales, which ones should we choose and why?"
   ]
  },
  {
   "cell_type": "code",
   "execution_count": null,
   "metadata": {
    "vscode": {
     "languageId": "sql"
    }
   },
   "outputs": [],
   "source": [
    "%%sql -- DONE\n",
    "SELECT\n",
    "    name,\n",
    "    ratings_average AS rating, ratings_count\n",
    "FROM\n",
    "    wines\n",
    "ORDER BY\n",
    "    ratings_count DESC,rating DESC\n",
    "LIMIT\n",
    "    10"
   ]
  },
  {
   "attachments": {},
   "cell_type": "markdown",
   "metadata": {},
   "source": [
    "We have a marketing budget for this year, which country should we prioritise and why?"
   ]
  },
  {
   "cell_type": "code",
   "execution_count": null,
   "metadata": {
    "vscode": {
     "languageId": "sql"
    }
   },
   "outputs": [],
   "source": [
    "%%sql --DONE\n",
    "SELECT\n",
    "    *\n",
    "FROM\n",
    "    countries\n",
    "ORDER BY\n",
    "    users_count DESC\n",
    "    \n",
    "LIMIT\n",
    "    3"
   ]
  },
  {
   "attachments": {},
   "cell_type": "markdown",
   "metadata": {},
   "source": [
    "We would like to give a price to the best winery, which one should we choose and why?"
   ]
  },
  {
   "cell_type": "code",
   "execution_count": null,
   "metadata": {
    "vscode": {
     "languageId": "sql"
    }
   },
   "outputs": [],
   "source": [
    "%%sql --Complete\n",
    "SELECT wineries.id, wineries.name, wines.ratings_average, SUM(wines.ratings_count)\n",
    "FROM wineries\n",
    "JOIN wines\n",
    "ON wines.winery_id = wineries.id\n",
    "GROUP BY wineries.name\n",
    "ORDER BY wines.ratings_count DESC\n",
    "LIMIT 3"
   ]
  },
  {
   "attachments": {},
   "cell_type": "markdown",
   "metadata": {},
   "source": [
    "We has detected that a big cluster of customers like a specific combination of tastes. We have identified few primary keywords that matches this and we would like you to find all the wines that have those keywords. To ensure accuracy of our selection, ensure that more than 10 users confirmed those keywords. Also, identify the flavor_groups related to those keywords."
   ]
  },
  {
   "cell_type": "code",
   "execution_count": null,
   "metadata": {
    "vscode": {
     "languageId": "sql"
    }
   },
   "outputs": [],
   "source": [
    "%%sql--TEST\n",
    "SELECT wines.id, keywords.name as keyword, wines.name as wine, keywords_wine.keyword_type\n",
    "FROM wines\n",
    "JOIN keywords_wine\n",
    "ON wines.id = keywords_wine.wine_id\n",
    "JOIN keywords\n",
    "ON keywords.id = keywords_wine.keyword_id\n",
    "WHERE keywords.name IN ('coffee','toast','green apple', 'cream', 'citrus') AND (keywords_wine.count > 10) AND keywords_wine.keyword_type = 'primary'\n",
    "LIMIT 5\n",
    "--117,417,195,123,106"
   ]
  },
  {
   "cell_type": "code",
   "execution_count": null,
   "metadata": {
    "vscode": {
     "languageId": "sql"
    }
   },
   "outputs": [],
   "source": [
    "%%sql\n",
    "SELECT wines.name AS wine,wines.id as wine_id, keywords_wine.group_name\n",
    "FROM wines\n",
    "JOIN keywords_wine ON wines.id = keywords_wine.wine_id\n",
    "JOIN keywords ON keywords.id = keywords_wine.keyword_id\n",
    "WHERE keywords.name IN ('coffee', 'toast', 'green apple', 'cream', 'citrus')\n",
    "AND keywords_wine.keyword_type = 'primary'\n",
    "GROUP BY wines.id, wines.name\n",
    "HAVING COUNT(keywords.id) = 5\n",
    "AND keywords_wine.count > 10"
   ]
  },
  {
   "cell_type": "code",
   "execution_count": null,
   "metadata": {
    "vscode": {
     "languageId": "sql"
    }
   },
   "outputs": [],
   "source": [
    "%%sql--TESTS\n",
    "SELECT wines.name AS wine,wines.id as wine_id, COUNT(keywords.id) AS keyword_count, keywords.name\n",
    "FROM wines\n",
    "JOIN keywords_wine ON wines.id = keywords_wine.wine_id\n",
    "JOIN keywords ON keywords.id = keywords_wine.keyword_id\n",
    "WHERE keywords.name IN ('coffee', 'toast', 'green apple', 'cream', 'citrus')\n",
    "  AND keywords_wine.keyword_type = 'primary'\n",
    "GROUP BY wines.id, wines.name\n",
    "HAVING COUNT(keywords.id) = 5\n",
    "AND keywords_wine.count > 10\n",
    "   "
   ]
  },
  {
   "cell_type": "code",
   "execution_count": null,
   "metadata": {
    "vscode": {
     "languageId": "sql"
    }
   },
   "outputs": [],
   "source": [
    "%%sql -- TESTS\n",
    "SELECT  keywords.name as keyword, wines.name as wine\n",
    "FROM keywords\n",
    "JOIN wines\n",
    "ON wines.id = keywords_wine.wine_id\n",
    "JOIN keywords\n",
    "ON keywords.id = keywords_wine.keyword_id\n",
    "--WHERE keywords.name IN ('coffee','toast','green apple', 'cream', 'citrus') AND (keywords_wine.count > 10)\n",
    "--Adding a lot of ands, so wines have ALL the keywords\n",
    "--WHERE (keywords.name = 'coffee') AND (keywords.name = 'toast') AND (keywords.name = 'green apple') AND (keywords.name = 'cream') AND (keywords.name = 'citrus')"
   ]
  },
  {
   "attachments": {},
   "cell_type": "markdown",
   "metadata": {},
   "source": [
    "We would like to do a selection of wines that are easy to find all over the world. Find the top 3 most common grape all over the world and for each grape, give us the the 5 best rated wines."
   ]
  },
  {
   "cell_type": "code",
   "execution_count": null,
   "metadata": {
    "vscode": {
     "languageId": "sql"
    }
   },
   "outputs": [],
   "source": [
    "%%sql --COMPLETE\n",
    "SELECT grapes.name AS grape_name, grapes.id AS grape_id, SUM(most_used_grapes_per_country.wines_count) AS total_world_wide\n",
    "FROM most_used_grapes_per_country\n",
    "JOIN grapes\n",
    "ON grapes.id = most_used_grapes_per_country.grape_id\n",
    "GROUP BY most_used_grapes_per_country.wines_count\n",
    "ORDER BY most_used_grapes_per_country.wines_count DESC\n",
    "LIMIT 3"
   ]
  },
  {
   "attachments": {},
   "cell_type": "markdown",
   "metadata": {},
   "source": [
    "We would to give create a country leaderboard, give us a visual that shows the average wine rating for each country. Do the same for the vintages."
   ]
  },
  {
   "cell_type": "code",
   "execution_count": null,
   "metadata": {
    "vscode": {
     "languageId": "sql"
    }
   },
   "outputs": [],
   "source": [
    "%%sql -- WITHOUT VINTAGES\n",
    "SELECT DISTINCT countries.name as country, ROUND(AVG(wines.ratings_average),2) AS average_rating\n",
    "from countries\n",
    "JOIN regions\n",
    "ON countries.code = regions.country_code\n",
    "JOIN wines\n",
    "ON wines.region_id = regions.id\n",
    "GROUP BY countries.name\n",
    "ORDER BY average_rating DESC\n"
   ]
  },
  {
   "cell_type": "code",
   "execution_count": null,
   "metadata": {
    "vscode": {
     "languageId": "sql"
    }
   },
   "outputs": [],
   "source": [
    "%%sql -- INCLUDED VINTAGES\n",
    "SELECT DISTINCT countries.name as country, ROUND(AVG(vintages.ratings_average),2) AS average_ratings_vintage\n",
    "from countries\n",
    "JOIN regions\n",
    "ON countries.code = regions.country_code\n",
    "JOIN wines\n",
    "ON wines.region_id = regions.id\n",
    "-- adding vintages\n",
    "JOIN vintages\n",
    "ON vintages.wine_id = wines.id\n",
    "GROUP BY countries.name\n",
    "ORDER BY average_ratings_vintage DESC\n"
   ]
  },
  {
   "attachments": {},
   "cell_type": "markdown",
   "metadata": {},
   "source": [
    "Give us any other useful insights you found in our data. Be creative!"
   ]
  },
  {
   "cell_type": "code",
   "execution_count": null,
   "metadata": {
    "vscode": {
     "languageId": "sql"
    }
   },
   "outputs": [],
   "source": []
  },
  {
   "attachments": {},
   "cell_type": "markdown",
   "metadata": {},
   "source": [
    "**Nice-to-have features**"
   ]
  },
  {
   "attachments": {},
   "cell_type": "markdown",
   "metadata": {},
   "source": [
    "One of our VIP client like Cabernet Sauvignon, he would like a top 5 recommandation, which wines would you recommend to him?"
   ]
  },
  {
   "cell_type": "code",
   "execution_count": null,
   "metadata": {
    "vscode": {
     "languageId": "sql"
    }
   },
   "outputs": [],
   "source": [
    "%%sql--WITH GRAPE\n",
    "SELECT wines.id AS wine_id, wines.name\n",
    "FROM wines\n",
    "JOIN keywords_wine\n",
    "ON keywords_wine.wine_id = wines.id\n",
    "JOIN keywords\n",
    "ON keywords_wine.keyword_id = keywords.id\n",
    "WHERE keywords_wine.keyword_id = 2\n",
    "LIMIT 5"
   ]
  },
  {
   "cell_type": "code",
   "execution_count": null,
   "metadata": {
    "vscode": {
     "languageId": "sql"
    }
   },
   "outputs": [],
   "source": []
  }
 ],
 "metadata": {
  "kernelspec": {
   "display_name": "Python 3",
   "language": "python",
   "name": "python3"
  },
  "language_info": {
   "codemirror_mode": {
    "name": "ipython",
    "version": 3
   },
   "file_extension": ".py",
   "mimetype": "text/x-python",
   "name": "python",
   "nbconvert_exporter": "python",
   "pygments_lexer": "ipython3",
   "version": "3.11.3"
  },
  "orig_nbformat": 4
 },
 "nbformat": 4,
 "nbformat_minor": 2
}
