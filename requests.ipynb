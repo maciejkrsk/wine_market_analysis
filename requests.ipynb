{
 "cells": [
  {
   "cell_type": "code",
   "execution_count": null,
   "metadata": {
    "vscode": {
     "languageId": "sql"
    }
   },
   "outputs": [],
   "source": [
    "import sqlalchemy"
   ]
  },
  {
   "cell_type": "code",
   "execution_count": null,
   "metadata": {
    "vscode": {
     "languageId": "sql"
    }
   },
   "outputs": [],
   "source": [
    "sqlalchemy.create_engine('sqlite:///vivino_v2.db')"
   ]
  },
  {
   "cell_type": "code",
   "execution_count": null,
   "metadata": {},
   "outputs": [],
   "source": [
    "%load_ext sql"
   ]
  },
  {
   "cell_type": "code",
   "execution_count": null,
   "metadata": {},
   "outputs": [],
   "source": [
    "%sql sqlite:///vivino_v2.db"
   ]
  },
  {
   "attachments": {},
   "cell_type": "markdown",
   "metadata": {},
   "source": [
    "We want to highlight 10 wines to increase our sales, which ones should we choose and why?"
   ]
  },
  {
   "cell_type": "code",
   "execution_count": null,
   "metadata": {
    "vscode": {
     "languageId": "sql"
    }
   },
   "outputs": [],
   "source": [
    "%%sql -- The top 10 with the best ratings\n",
    "SELECT\n",
    "    name,\n",
    "    ratings_average AS rating\n",
    "FROM\n",
    "    wines\n",
    "ORDER BY\n",
    "    rating DESC\n",
    "LIMIT\n",
    "    10"
   ]
  },
  {
   "attachments": {},
   "cell_type": "markdown",
   "metadata": {},
   "source": [
    "We have a marketing budget for this year, which country should we prioritise and why?"
   ]
  },
  {
   "cell_type": "code",
   "execution_count": null,
   "metadata": {
    "vscode": {
     "languageId": "sql"
    }
   },
   "outputs": [],
   "source": [
    "%%sql -- The one with the biggest consumer count\n",
    "SELECT\n",
    "    *\n",
    "FROM\n",
    "    countries\n",
    "ORDER BY\n",
    "    users_count DESC,\n",
    "    wineries_count DESC\n",
    "LIMIT\n",
    "    5"
   ]
  },
  {
   "attachments": {},
   "cell_type": "markdown",
   "metadata": {},
   "source": [
    "We would like to give a price to the best winery, which one should we choose and why?"
   ]
  },
  {
   "cell_type": "code",
   "execution_count": null,
   "metadata": {
    "vscode": {
     "languageId": "sql"
    }
   },
   "outputs": [],
   "source": [
    "%%sql--Add sum to \n",
    "SELECT\n",
    "    wine.name,\n",
    "    wine.ratings_count,\n",
    "    winery.name AS winery--,\n",
    "    --SUM(wine.ratings_count)\n",
    "FROM\n",
    "    wines AS wine\n",
    "    INNER JOIN wineries AS winery \n",
    "    ON wine.winery_id = winery.id\n",
    "\n",
    "ORDER BY\n",
    " wine.ratings_count DESC\n",
    " "
   ]
  },
  {
   "attachments": {},
   "cell_type": "markdown",
   "metadata": {},
   "source": [
    "We has detected that a big cluster of customers like a specific combination of tastes. We have identified few primary keywords that matches this and we would like you to find all the wines that have those keywords. To ensure accuracy of our selection, ensure that more than 10 users confirmed those keywords. Also, identify the flavor_groups related to those keywords."
   ]
  },
  {
   "cell_type": "code",
   "execution_count": null,
   "metadata": {
    "vscode": {
     "languageId": "sql"
    }
   },
   "outputs": [],
   "source": [
    "%%sql--Just a test\n",
    "SELECT *\n",
    "from wines\n",
    "INNER JOIN keywords_wine\n",
    "ON wines.id = keywords_wine.wine_id\n",
    "LIMIT 5"
   ]
  },
  {
   "cell_type": "code",
   "execution_count": null,
   "metadata": {
    "vscode": {
     "languageId": "sql"
    }
   },
   "outputs": [],
   "source": [
    "%%sql -- THIS ONE DOESNT WORK\n",
    "SELECT wines.name as wine, keywords.name as keyword, keywords_wine.group_name as flavor group\n",
    "FROM wines\n",
    "JOIN keywords_wine\n",
    "ON wines.id = keywords_wine.wine_id\n",
    "JOIN keywords\n",
    "ON keywords.id = keywords_wine.keyword_id\n",
    "JOIN flavor_groups\n",
    "ON flavor_groups.name = keywords_wine.group_name"
   ]
  },
  {
   "cell_type": "code",
   "execution_count": null,
   "metadata": {
    "vscode": {
     "languageId": "sql"
    }
   },
   "outputs": [],
   "source": [
    "%%sql-- THIS ONE WORKS NEEDS REVIEW\n",
    "SELECT DISTINCT keywords.name as keyword, wines.name as wine\n",
    "FROM wines\n",
    "JOIN keywords_wine\n",
    "ON wines.id = keywords_wine.wine_id\n",
    "JOIN keywords\n",
    "ON keywords.id = keywords_wine.keyword_id\n",
    "WHERE keywords.name IN ('coffee','toast','green apple', 'cream', 'citrus') AND (keywords_wine.count > 10)\n"
   ]
  },
  {
   "attachments": {},
   "cell_type": "markdown",
   "metadata": {},
   "source": [
    "We would like to do a selection of wines that are easy to find all over the world. Find the top 3 most common grape all over the world and for each grape, give us the the 5 best rated wines."
   ]
  },
  {
   "cell_type": "code",
   "execution_count": null,
   "metadata": {
    "vscode": {
     "languageId": "sql"
    }
   },
   "outputs": [],
   "source": [
    "%%sql\n",
    "--CREATE VIEW top_3_grapes AS\n",
    "SELECT   DISTINCT   grapes.id,grapes.name, most_used_grapes_per_country.*\n",
    "FROM most_used_grapes_per_country\n",
    "JOIN grapes\n",
    "ON most_used_grapes_per_country.grape_id = grapes.id\n",
    "ORDER BY most_used_grapes_per_country.wines_count DESC\n",
    "--limit 3\n"
   ]
  },
  {
   "cell_type": "code",
   "execution_count": null,
   "metadata": {
    "vscode": {
     "languageId": "sql"
    }
   },
   "outputs": [],
   "source": [
    "%%sql\n",
    "DROP VIEW top_3_grapes"
   ]
  },
  {
   "cell_type": "code",
   "execution_count": null,
   "metadata": {
    "vscode": {
     "languageId": "sql"
    }
   },
   "outputs": [],
   "source": [
    "%%sql\n",
    "SELECT DISTINCT name\n",
    "FROM top_3_grapes"
   ]
  },
  {
   "cell_type": "code",
   "execution_count": null,
   "metadata": {
    "vscode": {
     "languageId": "sql"
    }
   },
   "outputs": [],
   "source": [
    "%%sql\n",
    "SELECT \n",
    "FROM grapes"
   ]
  },
  {
   "attachments": {},
   "cell_type": "markdown",
   "metadata": {},
   "source": [
    "We would to give create a country leaderboard, give us a visual that shows the average wine rating for each country. Do the same for the vintages."
   ]
  },
  {
   "cell_type": "code",
   "execution_count": null,
   "metadata": {
    "vscode": {
     "languageId": "sql"
    }
   },
   "outputs": [],
   "source": [
    "%%sql -- MISSING VINTAGES? VISUALS?\n",
    "SELECT DISTINCT countries.name as country, wines.ratings_average\n",
    "from countries\n",
    "JOIN regions\n",
    "ON countries.code = regions.country_code\n",
    "JOIN wines\n",
    "ON wines.region_id = regions.id\n",
    "ORDER BY wines.ratings_average DESC"
   ]
  },
  {
   "cell_type": "code",
   "execution_count": null,
   "metadata": {
    "vscode": {
     "languageId": "sql"
    }
   },
   "outputs": [],
   "source": [
    "%%sql --Include vintages(not working)\n",
    "SELECT  countries.name as country, wines.ratings_average, vintages.name, vintages.ratings_average as vintage\n",
    "from countries\n",
    "JOIN regions\n",
    "ON countries.code = regions.country_code\n",
    "JOIN wines\n",
    "ON wines.region_id = regions.id\n",
    "JOIN vintages\n",
    "ON vintages.id = wines.id\n",
    "\n"
   ]
  },
  {
   "attachments": {},
   "cell_type": "markdown",
   "metadata": {},
   "source": [
    "Give us any other useful insights you found in our data. Be creative!"
   ]
  },
  {
   "cell_type": "code",
   "execution_count": null,
   "metadata": {
    "vscode": {
     "languageId": "sql"
    }
   },
   "outputs": [],
   "source": []
  },
  {
   "attachments": {},
   "cell_type": "markdown",
   "metadata": {},
   "source": [
    "**Nice-to-have features**"
   ]
  },
  {
   "attachments": {},
   "cell_type": "markdown",
   "metadata": {},
   "source": [
    "One of our VIP client like Cabernet Sauvignon, he would like a top 5 recommandation, which wines would you recommend to him?"
   ]
  },
  {
   "cell_type": "code",
   "execution_count": null,
   "metadata": {
    "vscode": {
     "languageId": "sql"
    }
   },
   "outputs": [],
   "source": []
  }
 ],
 "metadata": {
  "kernelspec": {
   "display_name": "Python 3",
   "language": "python",
   "name": "python3"
  },
  "language_info": {
   "codemirror_mode": {
    "name": "ipython",
    "version": 3
   },
   "file_extension": ".py",
   "mimetype": "text/x-python",
   "name": "python",
   "nbconvert_exporter": "python",
   "pygments_lexer": "ipython3",
   "version": "3.11.3"
  },
  "orig_nbformat": 4
 },
 "nbformat": 4,
 "nbformat_minor": 2
}
